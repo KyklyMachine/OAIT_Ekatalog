{
 "cells": [
  {
   "cell_type": "code",
   "execution_count": 1,
   "outputs": [],
   "source": [
    "from selenium import webdriver\n",
    "from selenium.webdriver import Keys\n",
    "from selenium.webdriver.chrome.service import Service\n",
    "from selenium.common.exceptions import TimeoutException, WebDriverException\n",
    "from selenium.webdriver.common.by import By\n",
    "from urllib.parse import urljoin\n",
    "from selenium.webdriver.chrome.options import Options\n",
    "import time\n",
    "import pandas as pd"
   ],
   "metadata": {
    "collapsed": false,
    "ExecuteTime": {
     "start_time": "2023-05-17T19:05:40.758583Z",
     "end_time": "2023-05-17T19:05:41.219980Z"
    }
   }
  },
  {
   "cell_type": "code",
   "execution_count": 2,
   "metadata": {
    "collapsed": true,
    "ExecuteTime": {
     "start_time": "2023-05-17T00:22:17.504329Z",
     "end_time": "2023-05-17T00:22:24.398906Z"
    }
   },
   "outputs": [
    {
     "ename": "KeyboardInterrupt",
     "evalue": "",
     "output_type": "error",
     "traceback": [
      "\u001B[0;31m---------------------------------------------------------------------------\u001B[0m",
      "\u001B[0;31mKeyboardInterrupt\u001B[0m                         Traceback (most recent call last)",
      "Cell \u001B[0;32mIn[2], line 23\u001B[0m\n\u001B[1;32m     20\u001B[0m     display(df)\n\u001B[1;32m     21\u001B[0m     \u001B[38;5;28;01mreturn\u001B[39;00m df\n\u001B[0;32m---> 23\u001B[0m df \u001B[38;5;241m=\u001B[39m \u001B[43mmain\u001B[49m\u001B[43m(\u001B[49m\u001B[43m)\u001B[49m\n",
      "Cell \u001B[0;32mIn[2], line 13\u001B[0m, in \u001B[0;36mmain\u001B[0;34m()\u001B[0m\n\u001B[1;32m     11\u001B[0m url \u001B[38;5;241m=\u001B[39m \u001B[38;5;124mf\u001B[39m\u001B[38;5;124m\"\u001B[39m\u001B[38;5;124mhttps://uchi.ru/schools/pages?page=\u001B[39m\u001B[38;5;132;01m{\u001B[39;00mpage\u001B[38;5;132;01m}\u001B[39;00m\u001B[38;5;124m\"\u001B[39m\n\u001B[1;32m     12\u001B[0m driver\u001B[38;5;241m.\u001B[39mget(url)\n\u001B[0;32m---> 13\u001B[0m \u001B[43mtime\u001B[49m\u001B[38;5;241;43m.\u001B[39;49m\u001B[43msleep\u001B[49m\u001B[43m(\u001B[49m\u001B[38;5;241;43m1\u001B[39;49m\u001B[43m)\u001B[49m\n\u001B[1;32m     14\u001B[0m res1 \u001B[38;5;241m=\u001B[39m driver\u001B[38;5;241m.\u001B[39mfind_elements(By\u001B[38;5;241m.\u001B[39mCLASS_NAME, \u001B[38;5;124m\"\u001B[39m\u001B[38;5;124mtable__name\u001B[39m\u001B[38;5;124m\"\u001B[39m)\n\u001B[1;32m     15\u001B[0m res2 \u001B[38;5;241m=\u001B[39m driver\u001B[38;5;241m.\u001B[39mfind_elements(By\u001B[38;5;241m.\u001B[39mCLASS_NAME, \u001B[38;5;124m\"\u001B[39m\u001B[38;5;124mtable__address\u001B[39m\u001B[38;5;124m\"\u001B[39m)\n",
      "\u001B[0;31mKeyboardInterrupt\u001B[0m: "
     ]
    }
   ],
   "source": [
    "COUNT_PAGES = 1000\n",
    "\n",
    "def main():\n",
    "    options = Options()\n",
    "    options.add_argument('--headless')\n",
    "    driver = webdriver.Chrome(options=options)\n",
    "\n",
    "    df = pd.DataFrame(columns=[\"name\", \"address\"])\n",
    "    for page in range(1, COUNT_PAGES):\n",
    "\n",
    "        url = f\"https://uchi.ru/schools/pages?page={page}\"\n",
    "        driver.get(url)\n",
    "        time.sleep(1)\n",
    "        res1 = driver.find_elements(By.CLASS_NAME, \"table__name\")\n",
    "        res2 = driver.find_elements(By.CLASS_NAME, \"table__address\")\n",
    "        for e1, e2 in zip(res1, res2):\n",
    "            df.loc[len(df)] = [e1.get_attribute('textContent'), e2.get_attribute('textContent')]\n",
    "    driver.close()\n",
    "\n",
    "    display(df)\n",
    "    return df\n",
    "\n",
    "df = main()"
   ]
  },
  {
   "cell_type": "code",
   "execution_count": 17,
   "outputs": [
    {
     "name": "stdout",
     "output_type": "stream",
     "text": [
      "324\n"
     ]
    }
   ],
   "source": [
    "def parse_olymp():\n",
    "    options = Options()\n",
    "    options.add_argument('--headless')\n",
    "    driver = webdriver.Chrome(options=options)\n",
    "\n",
    "    df = pd.DataFrame(columns=[\"name\", \"subject\", \"level\"])\n",
    "\n",
    "    url = \"https://olimpiada.ru/article/1043\"\n",
    "    driver.get(url)\n",
    "    #time.sleep(0.1)\n",
    "\n",
    "    rows = driver.find_elements(By.XPATH, \"//table[@class='note_table']//tr\")\n",
    "    print(len(rows))\n",
    "\n",
    "    for row in rows:\n",
    "        el1 = row.find_element(By.XPATH, \"./td[1]\")\n",
    "        el2 = row.find_element(By.XPATH, \"./td[3]\")\n",
    "        try:\n",
    "            el3 = row.find_element(By.XPATH, \"./td[4]\")\n",
    "            df.loc[len(df)] = [el1.text, el2.text, el3.text]\n",
    "        except:\n",
    "            pass\n",
    "        #for e1, e2, e3 in zip(el1, el2, el3):\n",
    "\n",
    "    \"\"\"\n",
    "    #res1 = driver.find_elements(By.CLASS_NAME, \"slim_dec\")\n",
    "    #res2 = driver.find_elements(By.XPATH, \"//td[style='width: 40%;']\")\n",
    "    print(len(res2))\n",
    "    #res3 = driver.find_elements(By.CLASS_NAME, \"table__address\")\n",
    "\n",
    "    for e1 in res1:\n",
    "        pass\n",
    "        #print(e1.get_attribute('textContent'))\n",
    "        #df.loc[len(df)] = [e1.get_attribute('textContent'), e2.get_attribute('textContent')]\n",
    "    \"\"\"\n",
    "    driver.close()\n",
    "    return df\n",
    "\n",
    "df2 = parse_olymp()\n"
   ],
   "metadata": {
    "collapsed": false,
    "ExecuteTime": {
     "start_time": "2023-05-17T00:50:40.707632Z",
     "end_time": "2023-05-17T00:50:50.788492Z"
    }
   }
  },
  {
   "cell_type": "code",
   "execution_count": 20,
   "outputs": [
    {
     "data": {
      "text/plain": "                                                  name  \\\n1                      Московская олимпиада школьников   \n2        Санкт-Петербургская астрономическая олимпиада   \n4                     Олимпиада школьников «Ломоносов»   \n5    Олимпиада школьников Санкт-Петербургского госу...   \n6    Всероссийская олимпиада школьников «Высшая проба»   \n..                                                 ...   \n307              Северо-Восточная олимпиада школьников   \n308  Сибирская межрегиональная олимпиада школьников...   \n309  Строгановская олимпиада на базе МГХПА имени С....   \n310                       Турнир имени М.В. Ломоносова   \n311   Межвузовская олимпиада школьников «Первый успех»   \n\n                                               subject  \\\n1                                           астрономия   \n2                                           астрономия   \n4                                             биология   \n5                                             биология   \n6                                             биология   \n..                                                 ...   \n307                                       родные языки   \n308  архитектура, изобразительные и прикладные виды...   \n309              рисунок, живопись, скульптура, дизайн   \n310                         астрономия и науки о земле   \n311                 педагогические науки и образование   \n\n                                                 level  \n1                                                    1  \n2                                                    1  \n4                                                    1  \n5                                                    1  \n6                                                    2  \n..                                                 ...  \n307                         педагогическое образование  \n308  архитектура, дизайн, дизайн архитектурной сред...  \n309                                  искусство, дизайн  \n310                                         астрономия  \n311  педагогическое образование, психолого-педагоги...  \n\n[278 rows x 3 columns]",
      "text/html": "<div>\n<style scoped>\n    .dataframe tbody tr th:only-of-type {\n        vertical-align: middle;\n    }\n\n    .dataframe tbody tr th {\n        vertical-align: top;\n    }\n\n    .dataframe thead th {\n        text-align: right;\n    }\n</style>\n<table border=\"1\" class=\"dataframe\">\n  <thead>\n    <tr style=\"text-align: right;\">\n      <th></th>\n      <th>name</th>\n      <th>subject</th>\n      <th>level</th>\n    </tr>\n  </thead>\n  <tbody>\n    <tr>\n      <th>1</th>\n      <td>Московская олимпиада школьников</td>\n      <td>астрономия</td>\n      <td>1</td>\n    </tr>\n    <tr>\n      <th>2</th>\n      <td>Санкт-Петербургская астрономическая олимпиада</td>\n      <td>астрономия</td>\n      <td>1</td>\n    </tr>\n    <tr>\n      <th>4</th>\n      <td>Олимпиада школьников «Ломоносов»</td>\n      <td>биология</td>\n      <td>1</td>\n    </tr>\n    <tr>\n      <th>5</th>\n      <td>Олимпиада школьников Санкт-Петербургского госу...</td>\n      <td>биология</td>\n      <td>1</td>\n    </tr>\n    <tr>\n      <th>6</th>\n      <td>Всероссийская олимпиада школьников «Высшая проба»</td>\n      <td>биология</td>\n      <td>2</td>\n    </tr>\n    <tr>\n      <th>...</th>\n      <td>...</td>\n      <td>...</td>\n      <td>...</td>\n    </tr>\n    <tr>\n      <th>307</th>\n      <td>Северо-Восточная олимпиада школьников</td>\n      <td>родные языки</td>\n      <td>педагогическое образование</td>\n    </tr>\n    <tr>\n      <th>308</th>\n      <td>Сибирская межрегиональная олимпиада школьников...</td>\n      <td>архитектура, изобразительные и прикладные виды...</td>\n      <td>архитектура, дизайн, дизайн архитектурной сред...</td>\n    </tr>\n    <tr>\n      <th>309</th>\n      <td>Строгановская олимпиада на базе МГХПА имени С....</td>\n      <td>рисунок, живопись, скульптура, дизайн</td>\n      <td>искусство, дизайн</td>\n    </tr>\n    <tr>\n      <th>310</th>\n      <td>Турнир имени М.В. Ломоносова</td>\n      <td>астрономия и науки о земле</td>\n      <td>астрономия</td>\n    </tr>\n    <tr>\n      <th>311</th>\n      <td>Межвузовская олимпиада школьников «Первый успех»</td>\n      <td>педагогические науки и образование</td>\n      <td>педагогическое образование, психолого-педагоги...</td>\n    </tr>\n  </tbody>\n</table>\n<p>278 rows × 3 columns</p>\n</div>"
     },
     "execution_count": 20,
     "metadata": {},
     "output_type": "execute_result"
    }
   ],
   "source": [
    "df3 = df2.drop(df2[df2.name == \"Наименование олимпиады\"].index)\n",
    "df3"
   ],
   "metadata": {
    "collapsed": false,
    "ExecuteTime": {
     "start_time": "2023-05-17T00:52:31.220417Z",
     "end_time": "2023-05-17T00:52:31.222157Z"
    }
   }
  },
  {
   "cell_type": "code",
   "execution_count": 23,
   "outputs": [
    {
     "data": {
      "text/plain": "                                                  name  \\\n1                      Московская олимпиада школьников   \n2        Санкт-Петербургская астрономическая олимпиада   \n4                     Олимпиада школьников «Ломоносов»   \n5    Олимпиада школьников Санкт-Петербургского госу...   \n6    Всероссийская олимпиада школьников «Высшая проба»   \n..                                                 ...   \n307              Северо-Восточная олимпиада школьников   \n308  Сибирская межрегиональная олимпиада школьников...   \n309  Строгановская олимпиада на базе МГХПА имени С....   \n310                       Турнир имени М.В. Ломоносова   \n311   Межвузовская олимпиада школьников «Первый успех»   \n\n                                               subject  \\\n1                                           астрономия   \n2                                           астрономия   \n4                                             биология   \n5                                             биология   \n6                                             биология   \n..                                                 ...   \n307                                       родные языки   \n308  архитектура, изобразительные и прикладные виды...   \n309              рисунок, живопись, скульптура, дизайн   \n310                         астрономия и науки о земле   \n311                 педагогические науки и образование   \n\n                                                 level  \n1                                                    1  \n2                                                    1  \n4                                                    1  \n5                                                    1  \n6                                                    2  \n..                                                 ...  \n307                         педагогическое образование  \n308  архитектура, дизайн, дизайн архитектурной сред...  \n309                                  искусство, дизайн  \n310                                         астрономия  \n311  педагогическое образование, психолого-педагоги...  \n\n[278 rows x 3 columns]",
      "text/html": "<div>\n<style scoped>\n    .dataframe tbody tr th:only-of-type {\n        vertical-align: middle;\n    }\n\n    .dataframe tbody tr th {\n        vertical-align: top;\n    }\n\n    .dataframe thead th {\n        text-align: right;\n    }\n</style>\n<table border=\"1\" class=\"dataframe\">\n  <thead>\n    <tr style=\"text-align: right;\">\n      <th></th>\n      <th>name</th>\n      <th>subject</th>\n      <th>level</th>\n    </tr>\n  </thead>\n  <tbody>\n    <tr>\n      <th>1</th>\n      <td>Московская олимпиада школьников</td>\n      <td>астрономия</td>\n      <td>1</td>\n    </tr>\n    <tr>\n      <th>2</th>\n      <td>Санкт-Петербургская астрономическая олимпиада</td>\n      <td>астрономия</td>\n      <td>1</td>\n    </tr>\n    <tr>\n      <th>4</th>\n      <td>Олимпиада школьников «Ломоносов»</td>\n      <td>биология</td>\n      <td>1</td>\n    </tr>\n    <tr>\n      <th>5</th>\n      <td>Олимпиада школьников Санкт-Петербургского госу...</td>\n      <td>биология</td>\n      <td>1</td>\n    </tr>\n    <tr>\n      <th>6</th>\n      <td>Всероссийская олимпиада школьников «Высшая проба»</td>\n      <td>биология</td>\n      <td>2</td>\n    </tr>\n    <tr>\n      <th>...</th>\n      <td>...</td>\n      <td>...</td>\n      <td>...</td>\n    </tr>\n    <tr>\n      <th>307</th>\n      <td>Северо-Восточная олимпиада школьников</td>\n      <td>родные языки</td>\n      <td>педагогическое образование</td>\n    </tr>\n    <tr>\n      <th>308</th>\n      <td>Сибирская межрегиональная олимпиада школьников...</td>\n      <td>архитектура, изобразительные и прикладные виды...</td>\n      <td>архитектура, дизайн, дизайн архитектурной сред...</td>\n    </tr>\n    <tr>\n      <th>309</th>\n      <td>Строгановская олимпиада на базе МГХПА имени С....</td>\n      <td>рисунок, живопись, скульптура, дизайн</td>\n      <td>искусство, дизайн</td>\n    </tr>\n    <tr>\n      <th>310</th>\n      <td>Турнир имени М.В. Ломоносова</td>\n      <td>астрономия и науки о земле</td>\n      <td>астрономия</td>\n    </tr>\n    <tr>\n      <th>311</th>\n      <td>Межвузовская олимпиада школьников «Первый успех»</td>\n      <td>педагогические науки и образование</td>\n      <td>педагогическое образование, психолого-педагоги...</td>\n    </tr>\n  </tbody>\n</table>\n<p>278 rows × 3 columns</p>\n</div>"
     },
     "execution_count": 23,
     "metadata": {},
     "output_type": "execute_result"
    }
   ],
   "source": [
    "df3"
   ],
   "metadata": {
    "collapsed": false,
    "ExecuteTime": {
     "start_time": "2023-05-17T00:53:24.951296Z",
     "end_time": "2023-05-17T00:53:24.955502Z"
    }
   }
  },
  {
   "cell_type": "code",
   "execution_count": 4,
   "outputs": [],
   "source": [
    "# parse laptops\n",
    "items_df = pd.DataFrame(columns=[\"name\",\n",
    "                                 \"category\",\n",
    "                                 \"characteristic1\",\n",
    "                                 \"characteristic2\",\n",
    "                                 \"characteristic3\",\n",
    "                                 \"characteristic4\",\n",
    "                                 \"characteristic5\",\n",
    "                                 ])\n",
    "\n",
    "deals_df = pd.DataFrame(columns=[\"name\",\n",
    "                              \"price\",\n",
    "                              \"shop\"\n",
    "                              ])\n",
    "\n",
    "def parse(url, category, pages):\n",
    "    options = Options()\n",
    "    options.add_argument('--headless')\n",
    "    driver = webdriver.Chrome(options=options)\n",
    "\n",
    "\n",
    "\n",
    "    for i in range(1, pages + 1):\n",
    "\n",
    "        driver.get(url + str(i))\n",
    "        #time.sleep(1)\n",
    "\n",
    "        items = driver.find_elements(By.CLASS_NAME, \"model-short-block\")\n",
    "\n",
    "        for item in items:\n",
    "            res = []\n",
    "\n",
    "            # name\n",
    "            res.append(item.find_element(By.CLASS_NAME, \"u\").text)\n",
    "            res.append(category)\n",
    "\n",
    "            # characteristics\n",
    "            characteristics = item.find_element(By.CLASS_NAME, \"m-s-f2\").find_elements(By.TAG_NAME, \"div\")\n",
    "            for c in characteristics:\n",
    "                if c.text:\n",
    "                    res.append(c.text)\n",
    "            try:\n",
    "                items_df.loc[len(items_df)] = res\n",
    "            except:\n",
    "                pass\n",
    "            # deals\n",
    "            try:\n",
    "                prices = item.find_element(By.CLASS_NAME, \"model-hot-prices\")\n",
    "                for deal in prices.find_elements(By.TAG_NAME, \"tr\"):\n",
    "                    deals_df.loc[len(deals_df)] = [res[0], deal.find_element(By.CLASS_NAME, \"model-shop-price\").text, deal.find_element(By.CLASS_NAME, \"sn-div\").text]\n",
    "            except:\n",
    "                pass\n",
    "\n",
    "    driver.close()\n",
    "\n",
    "\n",
    "\n",
    "# https://n-katalog.ru/category/mobilnye-telefony/list/page-\n",
    "# 170"
   ],
   "metadata": {
    "collapsed": false,
    "ExecuteTime": {
     "start_time": "2023-05-17T16:57:22.566373Z",
     "end_time": "2023-05-17T16:57:22.571261Z"
    }
   }
  },
  {
   "cell_type": "code",
   "execution_count": 12,
   "outputs": [],
   "source": [
    "url = \"https://n-katalog.ru/category/noutbuki/list/page-\"\n",
    "parse(url, \"Ноутбук\", 129)\n",
    "#129"
   ],
   "metadata": {
    "collapsed": false,
    "ExecuteTime": {
     "start_time": "2023-05-17T12:54:10.350298Z",
     "end_time": "2023-05-17T12:57:45.639689Z"
    }
   }
  },
  {
   "cell_type": "code",
   "execution_count": 13,
   "outputs": [],
   "source": [
    "url = \"https://n-katalog.ru/category/mobilnye-telefony/list/page-\"\n",
    "parse(url, \"Мобильный телефон\", 170)\n",
    "#170"
   ],
   "metadata": {
    "collapsed": false,
    "ExecuteTime": {
     "start_time": "2023-05-17T12:57:45.641041Z",
     "end_time": "2023-05-17T13:11:38.049458Z"
    }
   }
  },
  {
   "cell_type": "code",
   "execution_count": 14,
   "outputs": [
    {
     "ename": "KeyboardInterrupt",
     "evalue": "",
     "output_type": "error",
     "traceback": [
      "\u001B[0;31m---------------------------------------------------------------------------\u001B[0m",
      "\u001B[0;31mKeyboardInterrupt\u001B[0m                         Traceback (most recent call last)",
      "Cell \u001B[0;32mIn[14], line 2\u001B[0m\n\u001B[1;32m      1\u001B[0m url \u001B[38;5;241m=\u001B[39m \u001B[38;5;124m\"\u001B[39m\u001B[38;5;124mhttps://n-katalog.ru/category/naushniki/list/page-\u001B[39m\u001B[38;5;124m\"\u001B[39m\n\u001B[0;32m----> 2\u001B[0m \u001B[43mparse\u001B[49m\u001B[43m(\u001B[49m\u001B[43murl\u001B[49m\u001B[43m,\u001B[49m\u001B[43m \u001B[49m\u001B[38;5;124;43m\"\u001B[39;49m\u001B[38;5;124;43mНаушники\u001B[39;49m\u001B[38;5;124;43m\"\u001B[39;49m\u001B[43m,\u001B[49m\u001B[43m \u001B[49m\u001B[38;5;241;43m200\u001B[39;49m\u001B[43m)\u001B[49m\n\u001B[1;32m      3\u001B[0m \u001B[38;5;66;03m#200\u001B[39;00m\n",
      "Cell \u001B[0;32mIn[11], line 25\u001B[0m, in \u001B[0;36mparse\u001B[0;34m(url, category, pages)\u001B[0m\n\u001B[1;32m     19\u001B[0m driver \u001B[38;5;241m=\u001B[39m webdriver\u001B[38;5;241m.\u001B[39mChrome(options\u001B[38;5;241m=\u001B[39moptions)\n\u001B[1;32m     23\u001B[0m \u001B[38;5;28;01mfor\u001B[39;00m i \u001B[38;5;129;01min\u001B[39;00m \u001B[38;5;28mrange\u001B[39m(\u001B[38;5;241m1\u001B[39m, pages \u001B[38;5;241m+\u001B[39m \u001B[38;5;241m1\u001B[39m):\n\u001B[0;32m---> 25\u001B[0m     \u001B[43mdriver\u001B[49m\u001B[38;5;241;43m.\u001B[39;49m\u001B[43mget\u001B[49m\u001B[43m(\u001B[49m\u001B[43murl\u001B[49m\u001B[43m \u001B[49m\u001B[38;5;241;43m+\u001B[39;49m\u001B[43m \u001B[49m\u001B[38;5;28;43mstr\u001B[39;49m\u001B[43m(\u001B[49m\u001B[43mi\u001B[49m\u001B[43m)\u001B[49m\u001B[43m)\u001B[49m\n\u001B[1;32m     26\u001B[0m     \u001B[38;5;66;03m#time.sleep(1)\u001B[39;00m\n\u001B[1;32m     28\u001B[0m     items \u001B[38;5;241m=\u001B[39m driver\u001B[38;5;241m.\u001B[39mfind_elements(By\u001B[38;5;241m.\u001B[39mCLASS_NAME, \u001B[38;5;124m\"\u001B[39m\u001B[38;5;124mmodel-short-block\u001B[39m\u001B[38;5;124m\"\u001B[39m)\n",
      "File \u001B[0;32m/Library/Frameworks/Python.framework/Versions/3.11/lib/python3.11/site-packages/selenium/webdriver/remote/webdriver.py:449\u001B[0m, in \u001B[0;36mWebDriver.get\u001B[0;34m(self, url)\u001B[0m\n\u001B[1;32m    447\u001B[0m \u001B[38;5;28;01mdef\u001B[39;00m \u001B[38;5;21mget\u001B[39m(\u001B[38;5;28mself\u001B[39m, url: \u001B[38;5;28mstr\u001B[39m) \u001B[38;5;241m-\u001B[39m\u001B[38;5;241m>\u001B[39m \u001B[38;5;28;01mNone\u001B[39;00m:\n\u001B[1;32m    448\u001B[0m \u001B[38;5;250m    \u001B[39m\u001B[38;5;124;03m\"\"\"Loads a web page in the current browser session.\"\"\"\u001B[39;00m\n\u001B[0;32m--> 449\u001B[0m     \u001B[38;5;28;43mself\u001B[39;49m\u001B[38;5;241;43m.\u001B[39;49m\u001B[43mexecute\u001B[49m\u001B[43m(\u001B[49m\u001B[43mCommand\u001B[49m\u001B[38;5;241;43m.\u001B[39;49m\u001B[43mGET\u001B[49m\u001B[43m,\u001B[49m\u001B[43m \u001B[49m\u001B[43m{\u001B[49m\u001B[38;5;124;43m\"\u001B[39;49m\u001B[38;5;124;43murl\u001B[39;49m\u001B[38;5;124;43m\"\u001B[39;49m\u001B[43m:\u001B[49m\u001B[43m \u001B[49m\u001B[43murl\u001B[49m\u001B[43m}\u001B[49m\u001B[43m)\u001B[49m\n",
      "File \u001B[0;32m/Library/Frameworks/Python.framework/Versions/3.11/lib/python3.11/site-packages/selenium/webdriver/remote/webdriver.py:438\u001B[0m, in \u001B[0;36mWebDriver.execute\u001B[0;34m(self, driver_command, params)\u001B[0m\n\u001B[1;32m    435\u001B[0m     \u001B[38;5;28;01melif\u001B[39;00m \u001B[38;5;124m\"\u001B[39m\u001B[38;5;124msessionId\u001B[39m\u001B[38;5;124m\"\u001B[39m \u001B[38;5;129;01mnot\u001B[39;00m \u001B[38;5;129;01min\u001B[39;00m params:\n\u001B[1;32m    436\u001B[0m         params[\u001B[38;5;124m\"\u001B[39m\u001B[38;5;124msessionId\u001B[39m\u001B[38;5;124m\"\u001B[39m] \u001B[38;5;241m=\u001B[39m \u001B[38;5;28mself\u001B[39m\u001B[38;5;241m.\u001B[39msession_id\n\u001B[0;32m--> 438\u001B[0m response \u001B[38;5;241m=\u001B[39m \u001B[38;5;28;43mself\u001B[39;49m\u001B[38;5;241;43m.\u001B[39;49m\u001B[43mcommand_executor\u001B[49m\u001B[38;5;241;43m.\u001B[39;49m\u001B[43mexecute\u001B[49m\u001B[43m(\u001B[49m\u001B[43mdriver_command\u001B[49m\u001B[43m,\u001B[49m\u001B[43m \u001B[49m\u001B[43mparams\u001B[49m\u001B[43m)\u001B[49m\n\u001B[1;32m    439\u001B[0m \u001B[38;5;28;01mif\u001B[39;00m response:\n\u001B[1;32m    440\u001B[0m     \u001B[38;5;28mself\u001B[39m\u001B[38;5;241m.\u001B[39merror_handler\u001B[38;5;241m.\u001B[39mcheck_response(response)\n",
      "File \u001B[0;32m/Library/Frameworks/Python.framework/Versions/3.11/lib/python3.11/site-packages/selenium/webdriver/remote/remote_connection.py:290\u001B[0m, in \u001B[0;36mRemoteConnection.execute\u001B[0;34m(self, command, params)\u001B[0m\n\u001B[1;32m    288\u001B[0m data \u001B[38;5;241m=\u001B[39m utils\u001B[38;5;241m.\u001B[39mdump_json(params)\n\u001B[1;32m    289\u001B[0m url \u001B[38;5;241m=\u001B[39m \u001B[38;5;124mf\u001B[39m\u001B[38;5;124m\"\u001B[39m\u001B[38;5;132;01m{\u001B[39;00m\u001B[38;5;28mself\u001B[39m\u001B[38;5;241m.\u001B[39m_url\u001B[38;5;132;01m}\u001B[39;00m\u001B[38;5;132;01m{\u001B[39;00mpath\u001B[38;5;132;01m}\u001B[39;00m\u001B[38;5;124m\"\u001B[39m\n\u001B[0;32m--> 290\u001B[0m \u001B[38;5;28;01mreturn\u001B[39;00m \u001B[38;5;28;43mself\u001B[39;49m\u001B[38;5;241;43m.\u001B[39;49m\u001B[43m_request\u001B[49m\u001B[43m(\u001B[49m\u001B[43mcommand_info\u001B[49m\u001B[43m[\u001B[49m\u001B[38;5;241;43m0\u001B[39;49m\u001B[43m]\u001B[49m\u001B[43m,\u001B[49m\u001B[43m \u001B[49m\u001B[43murl\u001B[49m\u001B[43m,\u001B[49m\u001B[43m \u001B[49m\u001B[43mbody\u001B[49m\u001B[38;5;241;43m=\u001B[39;49m\u001B[43mdata\u001B[49m\u001B[43m)\u001B[49m\n",
      "File \u001B[0;32m/Library/Frameworks/Python.framework/Versions/3.11/lib/python3.11/site-packages/selenium/webdriver/remote/remote_connection.py:311\u001B[0m, in \u001B[0;36mRemoteConnection._request\u001B[0;34m(self, method, url, body)\u001B[0m\n\u001B[1;32m    308\u001B[0m     body \u001B[38;5;241m=\u001B[39m \u001B[38;5;28;01mNone\u001B[39;00m\n\u001B[1;32m    310\u001B[0m \u001B[38;5;28;01mif\u001B[39;00m \u001B[38;5;28mself\u001B[39m\u001B[38;5;241m.\u001B[39mkeep_alive:\n\u001B[0;32m--> 311\u001B[0m     response \u001B[38;5;241m=\u001B[39m \u001B[38;5;28;43mself\u001B[39;49m\u001B[38;5;241;43m.\u001B[39;49m\u001B[43m_conn\u001B[49m\u001B[38;5;241;43m.\u001B[39;49m\u001B[43mrequest\u001B[49m\u001B[43m(\u001B[49m\u001B[43mmethod\u001B[49m\u001B[43m,\u001B[49m\u001B[43m \u001B[49m\u001B[43murl\u001B[49m\u001B[43m,\u001B[49m\u001B[43m \u001B[49m\u001B[43mbody\u001B[49m\u001B[38;5;241;43m=\u001B[39;49m\u001B[43mbody\u001B[49m\u001B[43m,\u001B[49m\u001B[43m \u001B[49m\u001B[43mheaders\u001B[49m\u001B[38;5;241;43m=\u001B[39;49m\u001B[43mheaders\u001B[49m\u001B[43m)\u001B[49m\n\u001B[1;32m    312\u001B[0m     statuscode \u001B[38;5;241m=\u001B[39m response\u001B[38;5;241m.\u001B[39mstatus\n\u001B[1;32m    313\u001B[0m \u001B[38;5;28;01melse\u001B[39;00m:\n",
      "File \u001B[0;32m/Library/Frameworks/Python.framework/Versions/3.11/lib/python3.11/site-packages/urllib3/request.py:78\u001B[0m, in \u001B[0;36mRequestMethods.request\u001B[0;34m(self, method, url, fields, headers, **urlopen_kw)\u001B[0m\n\u001B[1;32m     74\u001B[0m     \u001B[38;5;28;01mreturn\u001B[39;00m \u001B[38;5;28mself\u001B[39m\u001B[38;5;241m.\u001B[39mrequest_encode_url(\n\u001B[1;32m     75\u001B[0m         method, url, fields\u001B[38;5;241m=\u001B[39mfields, headers\u001B[38;5;241m=\u001B[39mheaders, \u001B[38;5;241m*\u001B[39m\u001B[38;5;241m*\u001B[39murlopen_kw\n\u001B[1;32m     76\u001B[0m     )\n\u001B[1;32m     77\u001B[0m \u001B[38;5;28;01melse\u001B[39;00m:\n\u001B[0;32m---> 78\u001B[0m     \u001B[38;5;28;01mreturn\u001B[39;00m \u001B[38;5;28;43mself\u001B[39;49m\u001B[38;5;241;43m.\u001B[39;49m\u001B[43mrequest_encode_body\u001B[49m\u001B[43m(\u001B[49m\n\u001B[1;32m     79\u001B[0m \u001B[43m        \u001B[49m\u001B[43mmethod\u001B[49m\u001B[43m,\u001B[49m\u001B[43m \u001B[49m\u001B[43murl\u001B[49m\u001B[43m,\u001B[49m\u001B[43m \u001B[49m\u001B[43mfields\u001B[49m\u001B[38;5;241;43m=\u001B[39;49m\u001B[43mfields\u001B[49m\u001B[43m,\u001B[49m\u001B[43m \u001B[49m\u001B[43mheaders\u001B[49m\u001B[38;5;241;43m=\u001B[39;49m\u001B[43mheaders\u001B[49m\u001B[43m,\u001B[49m\u001B[43m \u001B[49m\u001B[38;5;241;43m*\u001B[39;49m\u001B[38;5;241;43m*\u001B[39;49m\u001B[43murlopen_kw\u001B[49m\n\u001B[1;32m     80\u001B[0m \u001B[43m    \u001B[49m\u001B[43m)\u001B[49m\n",
      "File \u001B[0;32m/Library/Frameworks/Python.framework/Versions/3.11/lib/python3.11/site-packages/urllib3/request.py:170\u001B[0m, in \u001B[0;36mRequestMethods.request_encode_body\u001B[0;34m(self, method, url, fields, headers, encode_multipart, multipart_boundary, **urlopen_kw)\u001B[0m\n\u001B[1;32m    167\u001B[0m extra_kw[\u001B[38;5;124m\"\u001B[39m\u001B[38;5;124mheaders\u001B[39m\u001B[38;5;124m\"\u001B[39m]\u001B[38;5;241m.\u001B[39mupdate(headers)\n\u001B[1;32m    168\u001B[0m extra_kw\u001B[38;5;241m.\u001B[39mupdate(urlopen_kw)\n\u001B[0;32m--> 170\u001B[0m \u001B[38;5;28;01mreturn\u001B[39;00m \u001B[38;5;28;43mself\u001B[39;49m\u001B[38;5;241;43m.\u001B[39;49m\u001B[43murlopen\u001B[49m\u001B[43m(\u001B[49m\u001B[43mmethod\u001B[49m\u001B[43m,\u001B[49m\u001B[43m \u001B[49m\u001B[43murl\u001B[49m\u001B[43m,\u001B[49m\u001B[43m \u001B[49m\u001B[38;5;241;43m*\u001B[39;49m\u001B[38;5;241;43m*\u001B[39;49m\u001B[43mextra_kw\u001B[49m\u001B[43m)\u001B[49m\n",
      "File \u001B[0;32m/Library/Frameworks/Python.framework/Versions/3.11/lib/python3.11/site-packages/urllib3/poolmanager.py:376\u001B[0m, in \u001B[0;36mPoolManager.urlopen\u001B[0;34m(self, method, url, redirect, **kw)\u001B[0m\n\u001B[1;32m    374\u001B[0m     response \u001B[38;5;241m=\u001B[39m conn\u001B[38;5;241m.\u001B[39murlopen(method, url, \u001B[38;5;241m*\u001B[39m\u001B[38;5;241m*\u001B[39mkw)\n\u001B[1;32m    375\u001B[0m \u001B[38;5;28;01melse\u001B[39;00m:\n\u001B[0;32m--> 376\u001B[0m     response \u001B[38;5;241m=\u001B[39m \u001B[43mconn\u001B[49m\u001B[38;5;241;43m.\u001B[39;49m\u001B[43murlopen\u001B[49m\u001B[43m(\u001B[49m\u001B[43mmethod\u001B[49m\u001B[43m,\u001B[49m\u001B[43m \u001B[49m\u001B[43mu\u001B[49m\u001B[38;5;241;43m.\u001B[39;49m\u001B[43mrequest_uri\u001B[49m\u001B[43m,\u001B[49m\u001B[43m \u001B[49m\u001B[38;5;241;43m*\u001B[39;49m\u001B[38;5;241;43m*\u001B[39;49m\u001B[43mkw\u001B[49m\u001B[43m)\u001B[49m\n\u001B[1;32m    378\u001B[0m redirect_location \u001B[38;5;241m=\u001B[39m redirect \u001B[38;5;129;01mand\u001B[39;00m response\u001B[38;5;241m.\u001B[39mget_redirect_location()\n\u001B[1;32m    379\u001B[0m \u001B[38;5;28;01mif\u001B[39;00m \u001B[38;5;129;01mnot\u001B[39;00m redirect_location:\n",
      "File \u001B[0;32m/Library/Frameworks/Python.framework/Versions/3.11/lib/python3.11/site-packages/urllib3/connectionpool.py:703\u001B[0m, in \u001B[0;36mHTTPConnectionPool.urlopen\u001B[0;34m(self, method, url, body, headers, retries, redirect, assert_same_host, timeout, pool_timeout, release_conn, chunked, body_pos, **response_kw)\u001B[0m\n\u001B[1;32m    700\u001B[0m     \u001B[38;5;28mself\u001B[39m\u001B[38;5;241m.\u001B[39m_prepare_proxy(conn)\n\u001B[1;32m    702\u001B[0m \u001B[38;5;66;03m# Make the request on the httplib connection object.\u001B[39;00m\n\u001B[0;32m--> 703\u001B[0m httplib_response \u001B[38;5;241m=\u001B[39m \u001B[38;5;28;43mself\u001B[39;49m\u001B[38;5;241;43m.\u001B[39;49m\u001B[43m_make_request\u001B[49m\u001B[43m(\u001B[49m\n\u001B[1;32m    704\u001B[0m \u001B[43m    \u001B[49m\u001B[43mconn\u001B[49m\u001B[43m,\u001B[49m\n\u001B[1;32m    705\u001B[0m \u001B[43m    \u001B[49m\u001B[43mmethod\u001B[49m\u001B[43m,\u001B[49m\n\u001B[1;32m    706\u001B[0m \u001B[43m    \u001B[49m\u001B[43murl\u001B[49m\u001B[43m,\u001B[49m\n\u001B[1;32m    707\u001B[0m \u001B[43m    \u001B[49m\u001B[43mtimeout\u001B[49m\u001B[38;5;241;43m=\u001B[39;49m\u001B[43mtimeout_obj\u001B[49m\u001B[43m,\u001B[49m\n\u001B[1;32m    708\u001B[0m \u001B[43m    \u001B[49m\u001B[43mbody\u001B[49m\u001B[38;5;241;43m=\u001B[39;49m\u001B[43mbody\u001B[49m\u001B[43m,\u001B[49m\n\u001B[1;32m    709\u001B[0m \u001B[43m    \u001B[49m\u001B[43mheaders\u001B[49m\u001B[38;5;241;43m=\u001B[39;49m\u001B[43mheaders\u001B[49m\u001B[43m,\u001B[49m\n\u001B[1;32m    710\u001B[0m \u001B[43m    \u001B[49m\u001B[43mchunked\u001B[49m\u001B[38;5;241;43m=\u001B[39;49m\u001B[43mchunked\u001B[49m\u001B[43m,\u001B[49m\n\u001B[1;32m    711\u001B[0m \u001B[43m\u001B[49m\u001B[43m)\u001B[49m\n\u001B[1;32m    713\u001B[0m \u001B[38;5;66;03m# If we're going to release the connection in ``finally:``, then\u001B[39;00m\n\u001B[1;32m    714\u001B[0m \u001B[38;5;66;03m# the response doesn't need to know about the connection. Otherwise\u001B[39;00m\n\u001B[1;32m    715\u001B[0m \u001B[38;5;66;03m# it will also try to release it and we'll have a double-release\u001B[39;00m\n\u001B[1;32m    716\u001B[0m \u001B[38;5;66;03m# mess.\u001B[39;00m\n\u001B[1;32m    717\u001B[0m response_conn \u001B[38;5;241m=\u001B[39m conn \u001B[38;5;28;01mif\u001B[39;00m \u001B[38;5;129;01mnot\u001B[39;00m release_conn \u001B[38;5;28;01melse\u001B[39;00m \u001B[38;5;28;01mNone\u001B[39;00m\n",
      "File \u001B[0;32m/Library/Frameworks/Python.framework/Versions/3.11/lib/python3.11/site-packages/urllib3/connectionpool.py:449\u001B[0m, in \u001B[0;36mHTTPConnectionPool._make_request\u001B[0;34m(self, conn, method, url, timeout, chunked, **httplib_request_kw)\u001B[0m\n\u001B[1;32m    444\u001B[0m             httplib_response \u001B[38;5;241m=\u001B[39m conn\u001B[38;5;241m.\u001B[39mgetresponse()\n\u001B[1;32m    445\u001B[0m         \u001B[38;5;28;01mexcept\u001B[39;00m \u001B[38;5;167;01mBaseException\u001B[39;00m \u001B[38;5;28;01mas\u001B[39;00m e:\n\u001B[1;32m    446\u001B[0m             \u001B[38;5;66;03m# Remove the TypeError from the exception chain in\u001B[39;00m\n\u001B[1;32m    447\u001B[0m             \u001B[38;5;66;03m# Python 3 (including for exceptions like SystemExit).\u001B[39;00m\n\u001B[1;32m    448\u001B[0m             \u001B[38;5;66;03m# Otherwise it looks like a bug in the code.\u001B[39;00m\n\u001B[0;32m--> 449\u001B[0m             \u001B[43msix\u001B[49m\u001B[38;5;241;43m.\u001B[39;49m\u001B[43mraise_from\u001B[49m\u001B[43m(\u001B[49m\u001B[43me\u001B[49m\u001B[43m,\u001B[49m\u001B[43m \u001B[49m\u001B[38;5;28;43;01mNone\u001B[39;49;00m\u001B[43m)\u001B[49m\n\u001B[1;32m    450\u001B[0m \u001B[38;5;28;01mexcept\u001B[39;00m (SocketTimeout, BaseSSLError, SocketError) \u001B[38;5;28;01mas\u001B[39;00m e:\n\u001B[1;32m    451\u001B[0m     \u001B[38;5;28mself\u001B[39m\u001B[38;5;241m.\u001B[39m_raise_timeout(err\u001B[38;5;241m=\u001B[39me, url\u001B[38;5;241m=\u001B[39murl, timeout_value\u001B[38;5;241m=\u001B[39mread_timeout)\n",
      "File \u001B[0;32m<string>:3\u001B[0m, in \u001B[0;36mraise_from\u001B[0;34m(value, from_value)\u001B[0m\n",
      "File \u001B[0;32m/Library/Frameworks/Python.framework/Versions/3.11/lib/python3.11/site-packages/urllib3/connectionpool.py:444\u001B[0m, in \u001B[0;36mHTTPConnectionPool._make_request\u001B[0;34m(self, conn, method, url, timeout, chunked, **httplib_request_kw)\u001B[0m\n\u001B[1;32m    441\u001B[0m \u001B[38;5;28;01mexcept\u001B[39;00m \u001B[38;5;167;01mTypeError\u001B[39;00m:\n\u001B[1;32m    442\u001B[0m     \u001B[38;5;66;03m# Python 3\u001B[39;00m\n\u001B[1;32m    443\u001B[0m     \u001B[38;5;28;01mtry\u001B[39;00m:\n\u001B[0;32m--> 444\u001B[0m         httplib_response \u001B[38;5;241m=\u001B[39m \u001B[43mconn\u001B[49m\u001B[38;5;241;43m.\u001B[39;49m\u001B[43mgetresponse\u001B[49m\u001B[43m(\u001B[49m\u001B[43m)\u001B[49m\n\u001B[1;32m    445\u001B[0m     \u001B[38;5;28;01mexcept\u001B[39;00m \u001B[38;5;167;01mBaseException\u001B[39;00m \u001B[38;5;28;01mas\u001B[39;00m e:\n\u001B[1;32m    446\u001B[0m         \u001B[38;5;66;03m# Remove the TypeError from the exception chain in\u001B[39;00m\n\u001B[1;32m    447\u001B[0m         \u001B[38;5;66;03m# Python 3 (including for exceptions like SystemExit).\u001B[39;00m\n\u001B[1;32m    448\u001B[0m         \u001B[38;5;66;03m# Otherwise it looks like a bug in the code.\u001B[39;00m\n\u001B[1;32m    449\u001B[0m         six\u001B[38;5;241m.\u001B[39mraise_from(e, \u001B[38;5;28;01mNone\u001B[39;00m)\n",
      "File \u001B[0;32m/Library/Frameworks/Python.framework/Versions/3.11/lib/python3.11/http/client.py:1374\u001B[0m, in \u001B[0;36mHTTPConnection.getresponse\u001B[0;34m(self)\u001B[0m\n\u001B[1;32m   1372\u001B[0m \u001B[38;5;28;01mtry\u001B[39;00m:\n\u001B[1;32m   1373\u001B[0m     \u001B[38;5;28;01mtry\u001B[39;00m:\n\u001B[0;32m-> 1374\u001B[0m         \u001B[43mresponse\u001B[49m\u001B[38;5;241;43m.\u001B[39;49m\u001B[43mbegin\u001B[49m\u001B[43m(\u001B[49m\u001B[43m)\u001B[49m\n\u001B[1;32m   1375\u001B[0m     \u001B[38;5;28;01mexcept\u001B[39;00m \u001B[38;5;167;01mConnectionError\u001B[39;00m:\n\u001B[1;32m   1376\u001B[0m         \u001B[38;5;28mself\u001B[39m\u001B[38;5;241m.\u001B[39mclose()\n",
      "File \u001B[0;32m/Library/Frameworks/Python.framework/Versions/3.11/lib/python3.11/http/client.py:318\u001B[0m, in \u001B[0;36mHTTPResponse.begin\u001B[0;34m(self)\u001B[0m\n\u001B[1;32m    316\u001B[0m \u001B[38;5;66;03m# read until we get a non-100 response\u001B[39;00m\n\u001B[1;32m    317\u001B[0m \u001B[38;5;28;01mwhile\u001B[39;00m \u001B[38;5;28;01mTrue\u001B[39;00m:\n\u001B[0;32m--> 318\u001B[0m     version, status, reason \u001B[38;5;241m=\u001B[39m \u001B[38;5;28;43mself\u001B[39;49m\u001B[38;5;241;43m.\u001B[39;49m\u001B[43m_read_status\u001B[49m\u001B[43m(\u001B[49m\u001B[43m)\u001B[49m\n\u001B[1;32m    319\u001B[0m     \u001B[38;5;28;01mif\u001B[39;00m status \u001B[38;5;241m!=\u001B[39m CONTINUE:\n\u001B[1;32m    320\u001B[0m         \u001B[38;5;28;01mbreak\u001B[39;00m\n",
      "File \u001B[0;32m/Library/Frameworks/Python.framework/Versions/3.11/lib/python3.11/http/client.py:279\u001B[0m, in \u001B[0;36mHTTPResponse._read_status\u001B[0;34m(self)\u001B[0m\n\u001B[1;32m    278\u001B[0m \u001B[38;5;28;01mdef\u001B[39;00m \u001B[38;5;21m_read_status\u001B[39m(\u001B[38;5;28mself\u001B[39m):\n\u001B[0;32m--> 279\u001B[0m     line \u001B[38;5;241m=\u001B[39m \u001B[38;5;28mstr\u001B[39m(\u001B[38;5;28mself\u001B[39m\u001B[38;5;241m.\u001B[39mfp\u001B[38;5;241m.\u001B[39mreadline(_MAXLINE \u001B[38;5;241m+\u001B[39m \u001B[38;5;241m1\u001B[39m), \u001B[38;5;124m\"\u001B[39m\u001B[38;5;124miso-8859-1\u001B[39m\u001B[38;5;124m\"\u001B[39m)\n\u001B[1;32m    280\u001B[0m     \u001B[38;5;28;01mif\u001B[39;00m \u001B[38;5;28mlen\u001B[39m(line) \u001B[38;5;241m>\u001B[39m _MAXLINE:\n\u001B[1;32m    281\u001B[0m         \u001B[38;5;28;01mraise\u001B[39;00m LineTooLong(\u001B[38;5;124m\"\u001B[39m\u001B[38;5;124mstatus line\u001B[39m\u001B[38;5;124m\"\u001B[39m)\n",
      "File \u001B[0;32m/Library/Frameworks/Python.framework/Versions/3.11/lib/python3.11/socket.py:706\u001B[0m, in \u001B[0;36mSocketIO.readinto\u001B[0;34m(self, b)\u001B[0m\n\u001B[1;32m    704\u001B[0m \u001B[38;5;28;01mwhile\u001B[39;00m \u001B[38;5;28;01mTrue\u001B[39;00m:\n\u001B[1;32m    705\u001B[0m     \u001B[38;5;28;01mtry\u001B[39;00m:\n\u001B[0;32m--> 706\u001B[0m         \u001B[38;5;28;01mreturn\u001B[39;00m \u001B[38;5;28;43mself\u001B[39;49m\u001B[38;5;241;43m.\u001B[39;49m\u001B[43m_sock\u001B[49m\u001B[38;5;241;43m.\u001B[39;49m\u001B[43mrecv_into\u001B[49m\u001B[43m(\u001B[49m\u001B[43mb\u001B[49m\u001B[43m)\u001B[49m\n\u001B[1;32m    707\u001B[0m     \u001B[38;5;28;01mexcept\u001B[39;00m timeout:\n\u001B[1;32m    708\u001B[0m         \u001B[38;5;28mself\u001B[39m\u001B[38;5;241m.\u001B[39m_timeout_occurred \u001B[38;5;241m=\u001B[39m \u001B[38;5;28;01mTrue\u001B[39;00m\n",
      "\u001B[0;31mKeyboardInterrupt\u001B[0m: "
     ]
    }
   ],
   "source": [
    "url = \"https://n-katalog.ru/category/naushniki/list/page-\"\n",
    "parse(url, \"Наушники\", 200)\n",
    "#200"
   ],
   "metadata": {
    "collapsed": false,
    "ExecuteTime": {
     "start_time": "2023-05-17T10:29:43.932535Z",
     "end_time": "2023-05-17T10:29:49.107947Z"
    }
   }
  },
  {
   "cell_type": "code",
   "execution_count": 15,
   "outputs": [
    {
     "ename": "KeyboardInterrupt",
     "evalue": "",
     "output_type": "error",
     "traceback": [
      "\u001B[0;31m---------------------------------------------------------------------------\u001B[0m",
      "\u001B[0;31mKeyboardInterrupt\u001B[0m                         Traceback (most recent call last)",
      "Cell \u001B[0;32mIn[15], line 2\u001B[0m\n\u001B[1;32m      1\u001B[0m url \u001B[38;5;241m=\u001B[39m \u001B[38;5;124m\"\u001B[39m\u001B[38;5;124mhttps://n-katalog.ru/category/monitory/list/page-\u001B[39m\u001B[38;5;124m\"\u001B[39m\n\u001B[0;32m----> 2\u001B[0m \u001B[43mparse\u001B[49m\u001B[43m(\u001B[49m\u001B[43murl\u001B[49m\u001B[43m,\u001B[49m\u001B[43m \u001B[49m\u001B[38;5;124;43m\"\u001B[39;49m\u001B[38;5;124;43mМонитор\u001B[39;49m\u001B[38;5;124;43m\"\u001B[39;49m\u001B[43m,\u001B[49m\u001B[43m \u001B[49m\u001B[38;5;241;43m75\u001B[39;49m\u001B[43m)\u001B[49m\n",
      "Cell \u001B[0;32mIn[11], line 25\u001B[0m, in \u001B[0;36mparse\u001B[0;34m(url, category, pages)\u001B[0m\n\u001B[1;32m     19\u001B[0m driver \u001B[38;5;241m=\u001B[39m webdriver\u001B[38;5;241m.\u001B[39mChrome(options\u001B[38;5;241m=\u001B[39moptions)\n\u001B[1;32m     23\u001B[0m \u001B[38;5;28;01mfor\u001B[39;00m i \u001B[38;5;129;01min\u001B[39;00m \u001B[38;5;28mrange\u001B[39m(\u001B[38;5;241m1\u001B[39m, pages \u001B[38;5;241m+\u001B[39m \u001B[38;5;241m1\u001B[39m):\n\u001B[0;32m---> 25\u001B[0m     \u001B[43mdriver\u001B[49m\u001B[38;5;241;43m.\u001B[39;49m\u001B[43mget\u001B[49m\u001B[43m(\u001B[49m\u001B[43murl\u001B[49m\u001B[43m \u001B[49m\u001B[38;5;241;43m+\u001B[39;49m\u001B[43m \u001B[49m\u001B[38;5;28;43mstr\u001B[39;49m\u001B[43m(\u001B[49m\u001B[43mi\u001B[49m\u001B[43m)\u001B[49m\u001B[43m)\u001B[49m\n\u001B[1;32m     26\u001B[0m     \u001B[38;5;66;03m#time.sleep(1)\u001B[39;00m\n\u001B[1;32m     28\u001B[0m     items \u001B[38;5;241m=\u001B[39m driver\u001B[38;5;241m.\u001B[39mfind_elements(By\u001B[38;5;241m.\u001B[39mCLASS_NAME, \u001B[38;5;124m\"\u001B[39m\u001B[38;5;124mmodel-short-block\u001B[39m\u001B[38;5;124m\"\u001B[39m)\n",
      "File \u001B[0;32m/Library/Frameworks/Python.framework/Versions/3.11/lib/python3.11/site-packages/selenium/webdriver/remote/webdriver.py:449\u001B[0m, in \u001B[0;36mWebDriver.get\u001B[0;34m(self, url)\u001B[0m\n\u001B[1;32m    447\u001B[0m \u001B[38;5;28;01mdef\u001B[39;00m \u001B[38;5;21mget\u001B[39m(\u001B[38;5;28mself\u001B[39m, url: \u001B[38;5;28mstr\u001B[39m) \u001B[38;5;241m-\u001B[39m\u001B[38;5;241m>\u001B[39m \u001B[38;5;28;01mNone\u001B[39;00m:\n\u001B[1;32m    448\u001B[0m \u001B[38;5;250m    \u001B[39m\u001B[38;5;124;03m\"\"\"Loads a web page in the current browser session.\"\"\"\u001B[39;00m\n\u001B[0;32m--> 449\u001B[0m     \u001B[38;5;28;43mself\u001B[39;49m\u001B[38;5;241;43m.\u001B[39;49m\u001B[43mexecute\u001B[49m\u001B[43m(\u001B[49m\u001B[43mCommand\u001B[49m\u001B[38;5;241;43m.\u001B[39;49m\u001B[43mGET\u001B[49m\u001B[43m,\u001B[49m\u001B[43m \u001B[49m\u001B[43m{\u001B[49m\u001B[38;5;124;43m\"\u001B[39;49m\u001B[38;5;124;43murl\u001B[39;49m\u001B[38;5;124;43m\"\u001B[39;49m\u001B[43m:\u001B[49m\u001B[43m \u001B[49m\u001B[43murl\u001B[49m\u001B[43m}\u001B[49m\u001B[43m)\u001B[49m\n",
      "File \u001B[0;32m/Library/Frameworks/Python.framework/Versions/3.11/lib/python3.11/site-packages/selenium/webdriver/remote/webdriver.py:438\u001B[0m, in \u001B[0;36mWebDriver.execute\u001B[0;34m(self, driver_command, params)\u001B[0m\n\u001B[1;32m    435\u001B[0m     \u001B[38;5;28;01melif\u001B[39;00m \u001B[38;5;124m\"\u001B[39m\u001B[38;5;124msessionId\u001B[39m\u001B[38;5;124m\"\u001B[39m \u001B[38;5;129;01mnot\u001B[39;00m \u001B[38;5;129;01min\u001B[39;00m params:\n\u001B[1;32m    436\u001B[0m         params[\u001B[38;5;124m\"\u001B[39m\u001B[38;5;124msessionId\u001B[39m\u001B[38;5;124m\"\u001B[39m] \u001B[38;5;241m=\u001B[39m \u001B[38;5;28mself\u001B[39m\u001B[38;5;241m.\u001B[39msession_id\n\u001B[0;32m--> 438\u001B[0m response \u001B[38;5;241m=\u001B[39m \u001B[38;5;28;43mself\u001B[39;49m\u001B[38;5;241;43m.\u001B[39;49m\u001B[43mcommand_executor\u001B[49m\u001B[38;5;241;43m.\u001B[39;49m\u001B[43mexecute\u001B[49m\u001B[43m(\u001B[49m\u001B[43mdriver_command\u001B[49m\u001B[43m,\u001B[49m\u001B[43m \u001B[49m\u001B[43mparams\u001B[49m\u001B[43m)\u001B[49m\n\u001B[1;32m    439\u001B[0m \u001B[38;5;28;01mif\u001B[39;00m response:\n\u001B[1;32m    440\u001B[0m     \u001B[38;5;28mself\u001B[39m\u001B[38;5;241m.\u001B[39merror_handler\u001B[38;5;241m.\u001B[39mcheck_response(response)\n",
      "File \u001B[0;32m/Library/Frameworks/Python.framework/Versions/3.11/lib/python3.11/site-packages/selenium/webdriver/remote/remote_connection.py:290\u001B[0m, in \u001B[0;36mRemoteConnection.execute\u001B[0;34m(self, command, params)\u001B[0m\n\u001B[1;32m    288\u001B[0m data \u001B[38;5;241m=\u001B[39m utils\u001B[38;5;241m.\u001B[39mdump_json(params)\n\u001B[1;32m    289\u001B[0m url \u001B[38;5;241m=\u001B[39m \u001B[38;5;124mf\u001B[39m\u001B[38;5;124m\"\u001B[39m\u001B[38;5;132;01m{\u001B[39;00m\u001B[38;5;28mself\u001B[39m\u001B[38;5;241m.\u001B[39m_url\u001B[38;5;132;01m}\u001B[39;00m\u001B[38;5;132;01m{\u001B[39;00mpath\u001B[38;5;132;01m}\u001B[39;00m\u001B[38;5;124m\"\u001B[39m\n\u001B[0;32m--> 290\u001B[0m \u001B[38;5;28;01mreturn\u001B[39;00m \u001B[38;5;28;43mself\u001B[39;49m\u001B[38;5;241;43m.\u001B[39;49m\u001B[43m_request\u001B[49m\u001B[43m(\u001B[49m\u001B[43mcommand_info\u001B[49m\u001B[43m[\u001B[49m\u001B[38;5;241;43m0\u001B[39;49m\u001B[43m]\u001B[49m\u001B[43m,\u001B[49m\u001B[43m \u001B[49m\u001B[43murl\u001B[49m\u001B[43m,\u001B[49m\u001B[43m \u001B[49m\u001B[43mbody\u001B[49m\u001B[38;5;241;43m=\u001B[39;49m\u001B[43mdata\u001B[49m\u001B[43m)\u001B[49m\n",
      "File \u001B[0;32m/Library/Frameworks/Python.framework/Versions/3.11/lib/python3.11/site-packages/selenium/webdriver/remote/remote_connection.py:311\u001B[0m, in \u001B[0;36mRemoteConnection._request\u001B[0;34m(self, method, url, body)\u001B[0m\n\u001B[1;32m    308\u001B[0m     body \u001B[38;5;241m=\u001B[39m \u001B[38;5;28;01mNone\u001B[39;00m\n\u001B[1;32m    310\u001B[0m \u001B[38;5;28;01mif\u001B[39;00m \u001B[38;5;28mself\u001B[39m\u001B[38;5;241m.\u001B[39mkeep_alive:\n\u001B[0;32m--> 311\u001B[0m     response \u001B[38;5;241m=\u001B[39m \u001B[38;5;28;43mself\u001B[39;49m\u001B[38;5;241;43m.\u001B[39;49m\u001B[43m_conn\u001B[49m\u001B[38;5;241;43m.\u001B[39;49m\u001B[43mrequest\u001B[49m\u001B[43m(\u001B[49m\u001B[43mmethod\u001B[49m\u001B[43m,\u001B[49m\u001B[43m \u001B[49m\u001B[43murl\u001B[49m\u001B[43m,\u001B[49m\u001B[43m \u001B[49m\u001B[43mbody\u001B[49m\u001B[38;5;241;43m=\u001B[39;49m\u001B[43mbody\u001B[49m\u001B[43m,\u001B[49m\u001B[43m \u001B[49m\u001B[43mheaders\u001B[49m\u001B[38;5;241;43m=\u001B[39;49m\u001B[43mheaders\u001B[49m\u001B[43m)\u001B[49m\n\u001B[1;32m    312\u001B[0m     statuscode \u001B[38;5;241m=\u001B[39m response\u001B[38;5;241m.\u001B[39mstatus\n\u001B[1;32m    313\u001B[0m \u001B[38;5;28;01melse\u001B[39;00m:\n",
      "File \u001B[0;32m/Library/Frameworks/Python.framework/Versions/3.11/lib/python3.11/site-packages/urllib3/request.py:78\u001B[0m, in \u001B[0;36mRequestMethods.request\u001B[0;34m(self, method, url, fields, headers, **urlopen_kw)\u001B[0m\n\u001B[1;32m     74\u001B[0m     \u001B[38;5;28;01mreturn\u001B[39;00m \u001B[38;5;28mself\u001B[39m\u001B[38;5;241m.\u001B[39mrequest_encode_url(\n\u001B[1;32m     75\u001B[0m         method, url, fields\u001B[38;5;241m=\u001B[39mfields, headers\u001B[38;5;241m=\u001B[39mheaders, \u001B[38;5;241m*\u001B[39m\u001B[38;5;241m*\u001B[39murlopen_kw\n\u001B[1;32m     76\u001B[0m     )\n\u001B[1;32m     77\u001B[0m \u001B[38;5;28;01melse\u001B[39;00m:\n\u001B[0;32m---> 78\u001B[0m     \u001B[38;5;28;01mreturn\u001B[39;00m \u001B[38;5;28;43mself\u001B[39;49m\u001B[38;5;241;43m.\u001B[39;49m\u001B[43mrequest_encode_body\u001B[49m\u001B[43m(\u001B[49m\n\u001B[1;32m     79\u001B[0m \u001B[43m        \u001B[49m\u001B[43mmethod\u001B[49m\u001B[43m,\u001B[49m\u001B[43m \u001B[49m\u001B[43murl\u001B[49m\u001B[43m,\u001B[49m\u001B[43m \u001B[49m\u001B[43mfields\u001B[49m\u001B[38;5;241;43m=\u001B[39;49m\u001B[43mfields\u001B[49m\u001B[43m,\u001B[49m\u001B[43m \u001B[49m\u001B[43mheaders\u001B[49m\u001B[38;5;241;43m=\u001B[39;49m\u001B[43mheaders\u001B[49m\u001B[43m,\u001B[49m\u001B[43m \u001B[49m\u001B[38;5;241;43m*\u001B[39;49m\u001B[38;5;241;43m*\u001B[39;49m\u001B[43murlopen_kw\u001B[49m\n\u001B[1;32m     80\u001B[0m \u001B[43m    \u001B[49m\u001B[43m)\u001B[49m\n",
      "File \u001B[0;32m/Library/Frameworks/Python.framework/Versions/3.11/lib/python3.11/site-packages/urllib3/request.py:170\u001B[0m, in \u001B[0;36mRequestMethods.request_encode_body\u001B[0;34m(self, method, url, fields, headers, encode_multipart, multipart_boundary, **urlopen_kw)\u001B[0m\n\u001B[1;32m    167\u001B[0m extra_kw[\u001B[38;5;124m\"\u001B[39m\u001B[38;5;124mheaders\u001B[39m\u001B[38;5;124m\"\u001B[39m]\u001B[38;5;241m.\u001B[39mupdate(headers)\n\u001B[1;32m    168\u001B[0m extra_kw\u001B[38;5;241m.\u001B[39mupdate(urlopen_kw)\n\u001B[0;32m--> 170\u001B[0m \u001B[38;5;28;01mreturn\u001B[39;00m \u001B[38;5;28;43mself\u001B[39;49m\u001B[38;5;241;43m.\u001B[39;49m\u001B[43murlopen\u001B[49m\u001B[43m(\u001B[49m\u001B[43mmethod\u001B[49m\u001B[43m,\u001B[49m\u001B[43m \u001B[49m\u001B[43murl\u001B[49m\u001B[43m,\u001B[49m\u001B[43m \u001B[49m\u001B[38;5;241;43m*\u001B[39;49m\u001B[38;5;241;43m*\u001B[39;49m\u001B[43mextra_kw\u001B[49m\u001B[43m)\u001B[49m\n",
      "File \u001B[0;32m/Library/Frameworks/Python.framework/Versions/3.11/lib/python3.11/site-packages/urllib3/poolmanager.py:376\u001B[0m, in \u001B[0;36mPoolManager.urlopen\u001B[0;34m(self, method, url, redirect, **kw)\u001B[0m\n\u001B[1;32m    374\u001B[0m     response \u001B[38;5;241m=\u001B[39m conn\u001B[38;5;241m.\u001B[39murlopen(method, url, \u001B[38;5;241m*\u001B[39m\u001B[38;5;241m*\u001B[39mkw)\n\u001B[1;32m    375\u001B[0m \u001B[38;5;28;01melse\u001B[39;00m:\n\u001B[0;32m--> 376\u001B[0m     response \u001B[38;5;241m=\u001B[39m \u001B[43mconn\u001B[49m\u001B[38;5;241;43m.\u001B[39;49m\u001B[43murlopen\u001B[49m\u001B[43m(\u001B[49m\u001B[43mmethod\u001B[49m\u001B[43m,\u001B[49m\u001B[43m \u001B[49m\u001B[43mu\u001B[49m\u001B[38;5;241;43m.\u001B[39;49m\u001B[43mrequest_uri\u001B[49m\u001B[43m,\u001B[49m\u001B[43m \u001B[49m\u001B[38;5;241;43m*\u001B[39;49m\u001B[38;5;241;43m*\u001B[39;49m\u001B[43mkw\u001B[49m\u001B[43m)\u001B[49m\n\u001B[1;32m    378\u001B[0m redirect_location \u001B[38;5;241m=\u001B[39m redirect \u001B[38;5;129;01mand\u001B[39;00m response\u001B[38;5;241m.\u001B[39mget_redirect_location()\n\u001B[1;32m    379\u001B[0m \u001B[38;5;28;01mif\u001B[39;00m \u001B[38;5;129;01mnot\u001B[39;00m redirect_location:\n",
      "File \u001B[0;32m/Library/Frameworks/Python.framework/Versions/3.11/lib/python3.11/site-packages/urllib3/connectionpool.py:703\u001B[0m, in \u001B[0;36mHTTPConnectionPool.urlopen\u001B[0;34m(self, method, url, body, headers, retries, redirect, assert_same_host, timeout, pool_timeout, release_conn, chunked, body_pos, **response_kw)\u001B[0m\n\u001B[1;32m    700\u001B[0m     \u001B[38;5;28mself\u001B[39m\u001B[38;5;241m.\u001B[39m_prepare_proxy(conn)\n\u001B[1;32m    702\u001B[0m \u001B[38;5;66;03m# Make the request on the httplib connection object.\u001B[39;00m\n\u001B[0;32m--> 703\u001B[0m httplib_response \u001B[38;5;241m=\u001B[39m \u001B[38;5;28;43mself\u001B[39;49m\u001B[38;5;241;43m.\u001B[39;49m\u001B[43m_make_request\u001B[49m\u001B[43m(\u001B[49m\n\u001B[1;32m    704\u001B[0m \u001B[43m    \u001B[49m\u001B[43mconn\u001B[49m\u001B[43m,\u001B[49m\n\u001B[1;32m    705\u001B[0m \u001B[43m    \u001B[49m\u001B[43mmethod\u001B[49m\u001B[43m,\u001B[49m\n\u001B[1;32m    706\u001B[0m \u001B[43m    \u001B[49m\u001B[43murl\u001B[49m\u001B[43m,\u001B[49m\n\u001B[1;32m    707\u001B[0m \u001B[43m    \u001B[49m\u001B[43mtimeout\u001B[49m\u001B[38;5;241;43m=\u001B[39;49m\u001B[43mtimeout_obj\u001B[49m\u001B[43m,\u001B[49m\n\u001B[1;32m    708\u001B[0m \u001B[43m    \u001B[49m\u001B[43mbody\u001B[49m\u001B[38;5;241;43m=\u001B[39;49m\u001B[43mbody\u001B[49m\u001B[43m,\u001B[49m\n\u001B[1;32m    709\u001B[0m \u001B[43m    \u001B[49m\u001B[43mheaders\u001B[49m\u001B[38;5;241;43m=\u001B[39;49m\u001B[43mheaders\u001B[49m\u001B[43m,\u001B[49m\n\u001B[1;32m    710\u001B[0m \u001B[43m    \u001B[49m\u001B[43mchunked\u001B[49m\u001B[38;5;241;43m=\u001B[39;49m\u001B[43mchunked\u001B[49m\u001B[43m,\u001B[49m\n\u001B[1;32m    711\u001B[0m \u001B[43m\u001B[49m\u001B[43m)\u001B[49m\n\u001B[1;32m    713\u001B[0m \u001B[38;5;66;03m# If we're going to release the connection in ``finally:``, then\u001B[39;00m\n\u001B[1;32m    714\u001B[0m \u001B[38;5;66;03m# the response doesn't need to know about the connection. Otherwise\u001B[39;00m\n\u001B[1;32m    715\u001B[0m \u001B[38;5;66;03m# it will also try to release it and we'll have a double-release\u001B[39;00m\n\u001B[1;32m    716\u001B[0m \u001B[38;5;66;03m# mess.\u001B[39;00m\n\u001B[1;32m    717\u001B[0m response_conn \u001B[38;5;241m=\u001B[39m conn \u001B[38;5;28;01mif\u001B[39;00m \u001B[38;5;129;01mnot\u001B[39;00m release_conn \u001B[38;5;28;01melse\u001B[39;00m \u001B[38;5;28;01mNone\u001B[39;00m\n",
      "File \u001B[0;32m/Library/Frameworks/Python.framework/Versions/3.11/lib/python3.11/site-packages/urllib3/connectionpool.py:449\u001B[0m, in \u001B[0;36mHTTPConnectionPool._make_request\u001B[0;34m(self, conn, method, url, timeout, chunked, **httplib_request_kw)\u001B[0m\n\u001B[1;32m    444\u001B[0m             httplib_response \u001B[38;5;241m=\u001B[39m conn\u001B[38;5;241m.\u001B[39mgetresponse()\n\u001B[1;32m    445\u001B[0m         \u001B[38;5;28;01mexcept\u001B[39;00m \u001B[38;5;167;01mBaseException\u001B[39;00m \u001B[38;5;28;01mas\u001B[39;00m e:\n\u001B[1;32m    446\u001B[0m             \u001B[38;5;66;03m# Remove the TypeError from the exception chain in\u001B[39;00m\n\u001B[1;32m    447\u001B[0m             \u001B[38;5;66;03m# Python 3 (including for exceptions like SystemExit).\u001B[39;00m\n\u001B[1;32m    448\u001B[0m             \u001B[38;5;66;03m# Otherwise it looks like a bug in the code.\u001B[39;00m\n\u001B[0;32m--> 449\u001B[0m             \u001B[43msix\u001B[49m\u001B[38;5;241;43m.\u001B[39;49m\u001B[43mraise_from\u001B[49m\u001B[43m(\u001B[49m\u001B[43me\u001B[49m\u001B[43m,\u001B[49m\u001B[43m \u001B[49m\u001B[38;5;28;43;01mNone\u001B[39;49;00m\u001B[43m)\u001B[49m\n\u001B[1;32m    450\u001B[0m \u001B[38;5;28;01mexcept\u001B[39;00m (SocketTimeout, BaseSSLError, SocketError) \u001B[38;5;28;01mas\u001B[39;00m e:\n\u001B[1;32m    451\u001B[0m     \u001B[38;5;28mself\u001B[39m\u001B[38;5;241m.\u001B[39m_raise_timeout(err\u001B[38;5;241m=\u001B[39me, url\u001B[38;5;241m=\u001B[39murl, timeout_value\u001B[38;5;241m=\u001B[39mread_timeout)\n",
      "File \u001B[0;32m<string>:3\u001B[0m, in \u001B[0;36mraise_from\u001B[0;34m(value, from_value)\u001B[0m\n",
      "File \u001B[0;32m/Library/Frameworks/Python.framework/Versions/3.11/lib/python3.11/site-packages/urllib3/connectionpool.py:444\u001B[0m, in \u001B[0;36mHTTPConnectionPool._make_request\u001B[0;34m(self, conn, method, url, timeout, chunked, **httplib_request_kw)\u001B[0m\n\u001B[1;32m    441\u001B[0m \u001B[38;5;28;01mexcept\u001B[39;00m \u001B[38;5;167;01mTypeError\u001B[39;00m:\n\u001B[1;32m    442\u001B[0m     \u001B[38;5;66;03m# Python 3\u001B[39;00m\n\u001B[1;32m    443\u001B[0m     \u001B[38;5;28;01mtry\u001B[39;00m:\n\u001B[0;32m--> 444\u001B[0m         httplib_response \u001B[38;5;241m=\u001B[39m \u001B[43mconn\u001B[49m\u001B[38;5;241;43m.\u001B[39;49m\u001B[43mgetresponse\u001B[49m\u001B[43m(\u001B[49m\u001B[43m)\u001B[49m\n\u001B[1;32m    445\u001B[0m     \u001B[38;5;28;01mexcept\u001B[39;00m \u001B[38;5;167;01mBaseException\u001B[39;00m \u001B[38;5;28;01mas\u001B[39;00m e:\n\u001B[1;32m    446\u001B[0m         \u001B[38;5;66;03m# Remove the TypeError from the exception chain in\u001B[39;00m\n\u001B[1;32m    447\u001B[0m         \u001B[38;5;66;03m# Python 3 (including for exceptions like SystemExit).\u001B[39;00m\n\u001B[1;32m    448\u001B[0m         \u001B[38;5;66;03m# Otherwise it looks like a bug in the code.\u001B[39;00m\n\u001B[1;32m    449\u001B[0m         six\u001B[38;5;241m.\u001B[39mraise_from(e, \u001B[38;5;28;01mNone\u001B[39;00m)\n",
      "File \u001B[0;32m/Library/Frameworks/Python.framework/Versions/3.11/lib/python3.11/http/client.py:1374\u001B[0m, in \u001B[0;36mHTTPConnection.getresponse\u001B[0;34m(self)\u001B[0m\n\u001B[1;32m   1372\u001B[0m \u001B[38;5;28;01mtry\u001B[39;00m:\n\u001B[1;32m   1373\u001B[0m     \u001B[38;5;28;01mtry\u001B[39;00m:\n\u001B[0;32m-> 1374\u001B[0m         \u001B[43mresponse\u001B[49m\u001B[38;5;241;43m.\u001B[39;49m\u001B[43mbegin\u001B[49m\u001B[43m(\u001B[49m\u001B[43m)\u001B[49m\n\u001B[1;32m   1375\u001B[0m     \u001B[38;5;28;01mexcept\u001B[39;00m \u001B[38;5;167;01mConnectionError\u001B[39;00m:\n\u001B[1;32m   1376\u001B[0m         \u001B[38;5;28mself\u001B[39m\u001B[38;5;241m.\u001B[39mclose()\n",
      "File \u001B[0;32m/Library/Frameworks/Python.framework/Versions/3.11/lib/python3.11/http/client.py:318\u001B[0m, in \u001B[0;36mHTTPResponse.begin\u001B[0;34m(self)\u001B[0m\n\u001B[1;32m    316\u001B[0m \u001B[38;5;66;03m# read until we get a non-100 response\u001B[39;00m\n\u001B[1;32m    317\u001B[0m \u001B[38;5;28;01mwhile\u001B[39;00m \u001B[38;5;28;01mTrue\u001B[39;00m:\n\u001B[0;32m--> 318\u001B[0m     version, status, reason \u001B[38;5;241m=\u001B[39m \u001B[38;5;28;43mself\u001B[39;49m\u001B[38;5;241;43m.\u001B[39;49m\u001B[43m_read_status\u001B[49m\u001B[43m(\u001B[49m\u001B[43m)\u001B[49m\n\u001B[1;32m    319\u001B[0m     \u001B[38;5;28;01mif\u001B[39;00m status \u001B[38;5;241m!=\u001B[39m CONTINUE:\n\u001B[1;32m    320\u001B[0m         \u001B[38;5;28;01mbreak\u001B[39;00m\n",
      "File \u001B[0;32m/Library/Frameworks/Python.framework/Versions/3.11/lib/python3.11/http/client.py:279\u001B[0m, in \u001B[0;36mHTTPResponse._read_status\u001B[0;34m(self)\u001B[0m\n\u001B[1;32m    278\u001B[0m \u001B[38;5;28;01mdef\u001B[39;00m \u001B[38;5;21m_read_status\u001B[39m(\u001B[38;5;28mself\u001B[39m):\n\u001B[0;32m--> 279\u001B[0m     line \u001B[38;5;241m=\u001B[39m \u001B[38;5;28mstr\u001B[39m(\u001B[38;5;28mself\u001B[39m\u001B[38;5;241m.\u001B[39mfp\u001B[38;5;241m.\u001B[39mreadline(_MAXLINE \u001B[38;5;241m+\u001B[39m \u001B[38;5;241m1\u001B[39m), \u001B[38;5;124m\"\u001B[39m\u001B[38;5;124miso-8859-1\u001B[39m\u001B[38;5;124m\"\u001B[39m)\n\u001B[1;32m    280\u001B[0m     \u001B[38;5;28;01mif\u001B[39;00m \u001B[38;5;28mlen\u001B[39m(line) \u001B[38;5;241m>\u001B[39m _MAXLINE:\n\u001B[1;32m    281\u001B[0m         \u001B[38;5;28;01mraise\u001B[39;00m LineTooLong(\u001B[38;5;124m\"\u001B[39m\u001B[38;5;124mstatus line\u001B[39m\u001B[38;5;124m\"\u001B[39m)\n",
      "File \u001B[0;32m/Library/Frameworks/Python.framework/Versions/3.11/lib/python3.11/socket.py:706\u001B[0m, in \u001B[0;36mSocketIO.readinto\u001B[0;34m(self, b)\u001B[0m\n\u001B[1;32m    704\u001B[0m \u001B[38;5;28;01mwhile\u001B[39;00m \u001B[38;5;28;01mTrue\u001B[39;00m:\n\u001B[1;32m    705\u001B[0m     \u001B[38;5;28;01mtry\u001B[39;00m:\n\u001B[0;32m--> 706\u001B[0m         \u001B[38;5;28;01mreturn\u001B[39;00m \u001B[38;5;28;43mself\u001B[39;49m\u001B[38;5;241;43m.\u001B[39;49m\u001B[43m_sock\u001B[49m\u001B[38;5;241;43m.\u001B[39;49m\u001B[43mrecv_into\u001B[49m\u001B[43m(\u001B[49m\u001B[43mb\u001B[49m\u001B[43m)\u001B[49m\n\u001B[1;32m    707\u001B[0m     \u001B[38;5;28;01mexcept\u001B[39;00m timeout:\n\u001B[1;32m    708\u001B[0m         \u001B[38;5;28mself\u001B[39m\u001B[38;5;241m.\u001B[39m_timeout_occurred \u001B[38;5;241m=\u001B[39m \u001B[38;5;28;01mTrue\u001B[39;00m\n",
      "\u001B[0;31mKeyboardInterrupt\u001B[0m: "
     ]
    }
   ],
   "source": [
    "url = \"https://n-katalog.ru/category/monitory/list/page-\"\n",
    "parse(url, \"Монитор\", 75)"
   ],
   "metadata": {
    "collapsed": false,
    "ExecuteTime": {
     "start_time": "2023-05-17T11:08:45.627676Z",
     "end_time": "2023-05-17T11:11:35.609702Z"
    }
   }
  },
  {
   "cell_type": "code",
   "execution_count": 17,
   "outputs": [
    {
     "ename": "KeyboardInterrupt",
     "evalue": "",
     "output_type": "error",
     "traceback": [
      "\u001B[0;31m---------------------------------------------------------------------------\u001B[0m",
      "\u001B[0;31mKeyboardInterrupt\u001B[0m                         Traceback (most recent call last)",
      "Cell \u001B[0;32mIn[17], line 2\u001B[0m\n\u001B[1;32m      1\u001B[0m url \u001B[38;5;241m=\u001B[39m \u001B[38;5;124m\"\u001B[39m\u001B[38;5;124mhttps://n-katalog.ru/category/stiralnye-mashiny/list/page-\u001B[39m\u001B[38;5;124m\"\u001B[39m\n\u001B[0;32m----> 2\u001B[0m \u001B[43mparse\u001B[49m\u001B[43m(\u001B[49m\u001B[43murl\u001B[49m\u001B[43m,\u001B[49m\u001B[43m \u001B[49m\u001B[38;5;124;43m\"\u001B[39;49m\u001B[38;5;124;43mХолодильник\u001B[39;49m\u001B[38;5;124;43m\"\u001B[39;49m\u001B[43m,\u001B[49m\u001B[43m \u001B[49m\u001B[38;5;241;43m23\u001B[39;49m\u001B[43m)\u001B[49m\n",
      "Cell \u001B[0;32mIn[11], line 25\u001B[0m, in \u001B[0;36mparse\u001B[0;34m(url, category, pages)\u001B[0m\n\u001B[1;32m     19\u001B[0m driver \u001B[38;5;241m=\u001B[39m webdriver\u001B[38;5;241m.\u001B[39mChrome(options\u001B[38;5;241m=\u001B[39moptions)\n\u001B[1;32m     23\u001B[0m \u001B[38;5;28;01mfor\u001B[39;00m i \u001B[38;5;129;01min\u001B[39;00m \u001B[38;5;28mrange\u001B[39m(\u001B[38;5;241m1\u001B[39m, pages \u001B[38;5;241m+\u001B[39m \u001B[38;5;241m1\u001B[39m):\n\u001B[0;32m---> 25\u001B[0m     \u001B[43mdriver\u001B[49m\u001B[38;5;241;43m.\u001B[39;49m\u001B[43mget\u001B[49m\u001B[43m(\u001B[49m\u001B[43murl\u001B[49m\u001B[43m \u001B[49m\u001B[38;5;241;43m+\u001B[39;49m\u001B[43m \u001B[49m\u001B[38;5;28;43mstr\u001B[39;49m\u001B[43m(\u001B[49m\u001B[43mi\u001B[49m\u001B[43m)\u001B[49m\u001B[43m)\u001B[49m\n\u001B[1;32m     26\u001B[0m     \u001B[38;5;66;03m#time.sleep(1)\u001B[39;00m\n\u001B[1;32m     28\u001B[0m     items \u001B[38;5;241m=\u001B[39m driver\u001B[38;5;241m.\u001B[39mfind_elements(By\u001B[38;5;241m.\u001B[39mCLASS_NAME, \u001B[38;5;124m\"\u001B[39m\u001B[38;5;124mmodel-short-block\u001B[39m\u001B[38;5;124m\"\u001B[39m)\n",
      "File \u001B[0;32m/Library/Frameworks/Python.framework/Versions/3.11/lib/python3.11/site-packages/selenium/webdriver/remote/webdriver.py:449\u001B[0m, in \u001B[0;36mWebDriver.get\u001B[0;34m(self, url)\u001B[0m\n\u001B[1;32m    447\u001B[0m \u001B[38;5;28;01mdef\u001B[39;00m \u001B[38;5;21mget\u001B[39m(\u001B[38;5;28mself\u001B[39m, url: \u001B[38;5;28mstr\u001B[39m) \u001B[38;5;241m-\u001B[39m\u001B[38;5;241m>\u001B[39m \u001B[38;5;28;01mNone\u001B[39;00m:\n\u001B[1;32m    448\u001B[0m \u001B[38;5;250m    \u001B[39m\u001B[38;5;124;03m\"\"\"Loads a web page in the current browser session.\"\"\"\u001B[39;00m\n\u001B[0;32m--> 449\u001B[0m     \u001B[38;5;28;43mself\u001B[39;49m\u001B[38;5;241;43m.\u001B[39;49m\u001B[43mexecute\u001B[49m\u001B[43m(\u001B[49m\u001B[43mCommand\u001B[49m\u001B[38;5;241;43m.\u001B[39;49m\u001B[43mGET\u001B[49m\u001B[43m,\u001B[49m\u001B[43m \u001B[49m\u001B[43m{\u001B[49m\u001B[38;5;124;43m\"\u001B[39;49m\u001B[38;5;124;43murl\u001B[39;49m\u001B[38;5;124;43m\"\u001B[39;49m\u001B[43m:\u001B[49m\u001B[43m \u001B[49m\u001B[43murl\u001B[49m\u001B[43m}\u001B[49m\u001B[43m)\u001B[49m\n",
      "File \u001B[0;32m/Library/Frameworks/Python.framework/Versions/3.11/lib/python3.11/site-packages/selenium/webdriver/remote/webdriver.py:438\u001B[0m, in \u001B[0;36mWebDriver.execute\u001B[0;34m(self, driver_command, params)\u001B[0m\n\u001B[1;32m    435\u001B[0m     \u001B[38;5;28;01melif\u001B[39;00m \u001B[38;5;124m\"\u001B[39m\u001B[38;5;124msessionId\u001B[39m\u001B[38;5;124m\"\u001B[39m \u001B[38;5;129;01mnot\u001B[39;00m \u001B[38;5;129;01min\u001B[39;00m params:\n\u001B[1;32m    436\u001B[0m         params[\u001B[38;5;124m\"\u001B[39m\u001B[38;5;124msessionId\u001B[39m\u001B[38;5;124m\"\u001B[39m] \u001B[38;5;241m=\u001B[39m \u001B[38;5;28mself\u001B[39m\u001B[38;5;241m.\u001B[39msession_id\n\u001B[0;32m--> 438\u001B[0m response \u001B[38;5;241m=\u001B[39m \u001B[38;5;28;43mself\u001B[39;49m\u001B[38;5;241;43m.\u001B[39;49m\u001B[43mcommand_executor\u001B[49m\u001B[38;5;241;43m.\u001B[39;49m\u001B[43mexecute\u001B[49m\u001B[43m(\u001B[49m\u001B[43mdriver_command\u001B[49m\u001B[43m,\u001B[49m\u001B[43m \u001B[49m\u001B[43mparams\u001B[49m\u001B[43m)\u001B[49m\n\u001B[1;32m    439\u001B[0m \u001B[38;5;28;01mif\u001B[39;00m response:\n\u001B[1;32m    440\u001B[0m     \u001B[38;5;28mself\u001B[39m\u001B[38;5;241m.\u001B[39merror_handler\u001B[38;5;241m.\u001B[39mcheck_response(response)\n",
      "File \u001B[0;32m/Library/Frameworks/Python.framework/Versions/3.11/lib/python3.11/site-packages/selenium/webdriver/remote/remote_connection.py:290\u001B[0m, in \u001B[0;36mRemoteConnection.execute\u001B[0;34m(self, command, params)\u001B[0m\n\u001B[1;32m    288\u001B[0m data \u001B[38;5;241m=\u001B[39m utils\u001B[38;5;241m.\u001B[39mdump_json(params)\n\u001B[1;32m    289\u001B[0m url \u001B[38;5;241m=\u001B[39m \u001B[38;5;124mf\u001B[39m\u001B[38;5;124m\"\u001B[39m\u001B[38;5;132;01m{\u001B[39;00m\u001B[38;5;28mself\u001B[39m\u001B[38;5;241m.\u001B[39m_url\u001B[38;5;132;01m}\u001B[39;00m\u001B[38;5;132;01m{\u001B[39;00mpath\u001B[38;5;132;01m}\u001B[39;00m\u001B[38;5;124m\"\u001B[39m\n\u001B[0;32m--> 290\u001B[0m \u001B[38;5;28;01mreturn\u001B[39;00m \u001B[38;5;28;43mself\u001B[39;49m\u001B[38;5;241;43m.\u001B[39;49m\u001B[43m_request\u001B[49m\u001B[43m(\u001B[49m\u001B[43mcommand_info\u001B[49m\u001B[43m[\u001B[49m\u001B[38;5;241;43m0\u001B[39;49m\u001B[43m]\u001B[49m\u001B[43m,\u001B[49m\u001B[43m \u001B[49m\u001B[43murl\u001B[49m\u001B[43m,\u001B[49m\u001B[43m \u001B[49m\u001B[43mbody\u001B[49m\u001B[38;5;241;43m=\u001B[39;49m\u001B[43mdata\u001B[49m\u001B[43m)\u001B[49m\n",
      "File \u001B[0;32m/Library/Frameworks/Python.framework/Versions/3.11/lib/python3.11/site-packages/selenium/webdriver/remote/remote_connection.py:311\u001B[0m, in \u001B[0;36mRemoteConnection._request\u001B[0;34m(self, method, url, body)\u001B[0m\n\u001B[1;32m    308\u001B[0m     body \u001B[38;5;241m=\u001B[39m \u001B[38;5;28;01mNone\u001B[39;00m\n\u001B[1;32m    310\u001B[0m \u001B[38;5;28;01mif\u001B[39;00m \u001B[38;5;28mself\u001B[39m\u001B[38;5;241m.\u001B[39mkeep_alive:\n\u001B[0;32m--> 311\u001B[0m     response \u001B[38;5;241m=\u001B[39m \u001B[38;5;28;43mself\u001B[39;49m\u001B[38;5;241;43m.\u001B[39;49m\u001B[43m_conn\u001B[49m\u001B[38;5;241;43m.\u001B[39;49m\u001B[43mrequest\u001B[49m\u001B[43m(\u001B[49m\u001B[43mmethod\u001B[49m\u001B[43m,\u001B[49m\u001B[43m \u001B[49m\u001B[43murl\u001B[49m\u001B[43m,\u001B[49m\u001B[43m \u001B[49m\u001B[43mbody\u001B[49m\u001B[38;5;241;43m=\u001B[39;49m\u001B[43mbody\u001B[49m\u001B[43m,\u001B[49m\u001B[43m \u001B[49m\u001B[43mheaders\u001B[49m\u001B[38;5;241;43m=\u001B[39;49m\u001B[43mheaders\u001B[49m\u001B[43m)\u001B[49m\n\u001B[1;32m    312\u001B[0m     statuscode \u001B[38;5;241m=\u001B[39m response\u001B[38;5;241m.\u001B[39mstatus\n\u001B[1;32m    313\u001B[0m \u001B[38;5;28;01melse\u001B[39;00m:\n",
      "File \u001B[0;32m/Library/Frameworks/Python.framework/Versions/3.11/lib/python3.11/site-packages/urllib3/request.py:78\u001B[0m, in \u001B[0;36mRequestMethods.request\u001B[0;34m(self, method, url, fields, headers, **urlopen_kw)\u001B[0m\n\u001B[1;32m     74\u001B[0m     \u001B[38;5;28;01mreturn\u001B[39;00m \u001B[38;5;28mself\u001B[39m\u001B[38;5;241m.\u001B[39mrequest_encode_url(\n\u001B[1;32m     75\u001B[0m         method, url, fields\u001B[38;5;241m=\u001B[39mfields, headers\u001B[38;5;241m=\u001B[39mheaders, \u001B[38;5;241m*\u001B[39m\u001B[38;5;241m*\u001B[39murlopen_kw\n\u001B[1;32m     76\u001B[0m     )\n\u001B[1;32m     77\u001B[0m \u001B[38;5;28;01melse\u001B[39;00m:\n\u001B[0;32m---> 78\u001B[0m     \u001B[38;5;28;01mreturn\u001B[39;00m \u001B[38;5;28;43mself\u001B[39;49m\u001B[38;5;241;43m.\u001B[39;49m\u001B[43mrequest_encode_body\u001B[49m\u001B[43m(\u001B[49m\n\u001B[1;32m     79\u001B[0m \u001B[43m        \u001B[49m\u001B[43mmethod\u001B[49m\u001B[43m,\u001B[49m\u001B[43m \u001B[49m\u001B[43murl\u001B[49m\u001B[43m,\u001B[49m\u001B[43m \u001B[49m\u001B[43mfields\u001B[49m\u001B[38;5;241;43m=\u001B[39;49m\u001B[43mfields\u001B[49m\u001B[43m,\u001B[49m\u001B[43m \u001B[49m\u001B[43mheaders\u001B[49m\u001B[38;5;241;43m=\u001B[39;49m\u001B[43mheaders\u001B[49m\u001B[43m,\u001B[49m\u001B[43m \u001B[49m\u001B[38;5;241;43m*\u001B[39;49m\u001B[38;5;241;43m*\u001B[39;49m\u001B[43murlopen_kw\u001B[49m\n\u001B[1;32m     80\u001B[0m \u001B[43m    \u001B[49m\u001B[43m)\u001B[49m\n",
      "File \u001B[0;32m/Library/Frameworks/Python.framework/Versions/3.11/lib/python3.11/site-packages/urllib3/request.py:170\u001B[0m, in \u001B[0;36mRequestMethods.request_encode_body\u001B[0;34m(self, method, url, fields, headers, encode_multipart, multipart_boundary, **urlopen_kw)\u001B[0m\n\u001B[1;32m    167\u001B[0m extra_kw[\u001B[38;5;124m\"\u001B[39m\u001B[38;5;124mheaders\u001B[39m\u001B[38;5;124m\"\u001B[39m]\u001B[38;5;241m.\u001B[39mupdate(headers)\n\u001B[1;32m    168\u001B[0m extra_kw\u001B[38;5;241m.\u001B[39mupdate(urlopen_kw)\n\u001B[0;32m--> 170\u001B[0m \u001B[38;5;28;01mreturn\u001B[39;00m \u001B[38;5;28;43mself\u001B[39;49m\u001B[38;5;241;43m.\u001B[39;49m\u001B[43murlopen\u001B[49m\u001B[43m(\u001B[49m\u001B[43mmethod\u001B[49m\u001B[43m,\u001B[49m\u001B[43m \u001B[49m\u001B[43murl\u001B[49m\u001B[43m,\u001B[49m\u001B[43m \u001B[49m\u001B[38;5;241;43m*\u001B[39;49m\u001B[38;5;241;43m*\u001B[39;49m\u001B[43mextra_kw\u001B[49m\u001B[43m)\u001B[49m\n",
      "File \u001B[0;32m/Library/Frameworks/Python.framework/Versions/3.11/lib/python3.11/site-packages/urllib3/poolmanager.py:376\u001B[0m, in \u001B[0;36mPoolManager.urlopen\u001B[0;34m(self, method, url, redirect, **kw)\u001B[0m\n\u001B[1;32m    374\u001B[0m     response \u001B[38;5;241m=\u001B[39m conn\u001B[38;5;241m.\u001B[39murlopen(method, url, \u001B[38;5;241m*\u001B[39m\u001B[38;5;241m*\u001B[39mkw)\n\u001B[1;32m    375\u001B[0m \u001B[38;5;28;01melse\u001B[39;00m:\n\u001B[0;32m--> 376\u001B[0m     response \u001B[38;5;241m=\u001B[39m \u001B[43mconn\u001B[49m\u001B[38;5;241;43m.\u001B[39;49m\u001B[43murlopen\u001B[49m\u001B[43m(\u001B[49m\u001B[43mmethod\u001B[49m\u001B[43m,\u001B[49m\u001B[43m \u001B[49m\u001B[43mu\u001B[49m\u001B[38;5;241;43m.\u001B[39;49m\u001B[43mrequest_uri\u001B[49m\u001B[43m,\u001B[49m\u001B[43m \u001B[49m\u001B[38;5;241;43m*\u001B[39;49m\u001B[38;5;241;43m*\u001B[39;49m\u001B[43mkw\u001B[49m\u001B[43m)\u001B[49m\n\u001B[1;32m    378\u001B[0m redirect_location \u001B[38;5;241m=\u001B[39m redirect \u001B[38;5;129;01mand\u001B[39;00m response\u001B[38;5;241m.\u001B[39mget_redirect_location()\n\u001B[1;32m    379\u001B[0m \u001B[38;5;28;01mif\u001B[39;00m \u001B[38;5;129;01mnot\u001B[39;00m redirect_location:\n",
      "File \u001B[0;32m/Library/Frameworks/Python.framework/Versions/3.11/lib/python3.11/site-packages/urllib3/connectionpool.py:703\u001B[0m, in \u001B[0;36mHTTPConnectionPool.urlopen\u001B[0;34m(self, method, url, body, headers, retries, redirect, assert_same_host, timeout, pool_timeout, release_conn, chunked, body_pos, **response_kw)\u001B[0m\n\u001B[1;32m    700\u001B[0m     \u001B[38;5;28mself\u001B[39m\u001B[38;5;241m.\u001B[39m_prepare_proxy(conn)\n\u001B[1;32m    702\u001B[0m \u001B[38;5;66;03m# Make the request on the httplib connection object.\u001B[39;00m\n\u001B[0;32m--> 703\u001B[0m httplib_response \u001B[38;5;241m=\u001B[39m \u001B[38;5;28;43mself\u001B[39;49m\u001B[38;5;241;43m.\u001B[39;49m\u001B[43m_make_request\u001B[49m\u001B[43m(\u001B[49m\n\u001B[1;32m    704\u001B[0m \u001B[43m    \u001B[49m\u001B[43mconn\u001B[49m\u001B[43m,\u001B[49m\n\u001B[1;32m    705\u001B[0m \u001B[43m    \u001B[49m\u001B[43mmethod\u001B[49m\u001B[43m,\u001B[49m\n\u001B[1;32m    706\u001B[0m \u001B[43m    \u001B[49m\u001B[43murl\u001B[49m\u001B[43m,\u001B[49m\n\u001B[1;32m    707\u001B[0m \u001B[43m    \u001B[49m\u001B[43mtimeout\u001B[49m\u001B[38;5;241;43m=\u001B[39;49m\u001B[43mtimeout_obj\u001B[49m\u001B[43m,\u001B[49m\n\u001B[1;32m    708\u001B[0m \u001B[43m    \u001B[49m\u001B[43mbody\u001B[49m\u001B[38;5;241;43m=\u001B[39;49m\u001B[43mbody\u001B[49m\u001B[43m,\u001B[49m\n\u001B[1;32m    709\u001B[0m \u001B[43m    \u001B[49m\u001B[43mheaders\u001B[49m\u001B[38;5;241;43m=\u001B[39;49m\u001B[43mheaders\u001B[49m\u001B[43m,\u001B[49m\n\u001B[1;32m    710\u001B[0m \u001B[43m    \u001B[49m\u001B[43mchunked\u001B[49m\u001B[38;5;241;43m=\u001B[39;49m\u001B[43mchunked\u001B[49m\u001B[43m,\u001B[49m\n\u001B[1;32m    711\u001B[0m \u001B[43m\u001B[49m\u001B[43m)\u001B[49m\n\u001B[1;32m    713\u001B[0m \u001B[38;5;66;03m# If we're going to release the connection in ``finally:``, then\u001B[39;00m\n\u001B[1;32m    714\u001B[0m \u001B[38;5;66;03m# the response doesn't need to know about the connection. Otherwise\u001B[39;00m\n\u001B[1;32m    715\u001B[0m \u001B[38;5;66;03m# it will also try to release it and we'll have a double-release\u001B[39;00m\n\u001B[1;32m    716\u001B[0m \u001B[38;5;66;03m# mess.\u001B[39;00m\n\u001B[1;32m    717\u001B[0m response_conn \u001B[38;5;241m=\u001B[39m conn \u001B[38;5;28;01mif\u001B[39;00m \u001B[38;5;129;01mnot\u001B[39;00m release_conn \u001B[38;5;28;01melse\u001B[39;00m \u001B[38;5;28;01mNone\u001B[39;00m\n",
      "File \u001B[0;32m/Library/Frameworks/Python.framework/Versions/3.11/lib/python3.11/site-packages/urllib3/connectionpool.py:449\u001B[0m, in \u001B[0;36mHTTPConnectionPool._make_request\u001B[0;34m(self, conn, method, url, timeout, chunked, **httplib_request_kw)\u001B[0m\n\u001B[1;32m    444\u001B[0m             httplib_response \u001B[38;5;241m=\u001B[39m conn\u001B[38;5;241m.\u001B[39mgetresponse()\n\u001B[1;32m    445\u001B[0m         \u001B[38;5;28;01mexcept\u001B[39;00m \u001B[38;5;167;01mBaseException\u001B[39;00m \u001B[38;5;28;01mas\u001B[39;00m e:\n\u001B[1;32m    446\u001B[0m             \u001B[38;5;66;03m# Remove the TypeError from the exception chain in\u001B[39;00m\n\u001B[1;32m    447\u001B[0m             \u001B[38;5;66;03m# Python 3 (including for exceptions like SystemExit).\u001B[39;00m\n\u001B[1;32m    448\u001B[0m             \u001B[38;5;66;03m# Otherwise it looks like a bug in the code.\u001B[39;00m\n\u001B[0;32m--> 449\u001B[0m             \u001B[43msix\u001B[49m\u001B[38;5;241;43m.\u001B[39;49m\u001B[43mraise_from\u001B[49m\u001B[43m(\u001B[49m\u001B[43me\u001B[49m\u001B[43m,\u001B[49m\u001B[43m \u001B[49m\u001B[38;5;28;43;01mNone\u001B[39;49;00m\u001B[43m)\u001B[49m\n\u001B[1;32m    450\u001B[0m \u001B[38;5;28;01mexcept\u001B[39;00m (SocketTimeout, BaseSSLError, SocketError) \u001B[38;5;28;01mas\u001B[39;00m e:\n\u001B[1;32m    451\u001B[0m     \u001B[38;5;28mself\u001B[39m\u001B[38;5;241m.\u001B[39m_raise_timeout(err\u001B[38;5;241m=\u001B[39me, url\u001B[38;5;241m=\u001B[39murl, timeout_value\u001B[38;5;241m=\u001B[39mread_timeout)\n",
      "File \u001B[0;32m<string>:3\u001B[0m, in \u001B[0;36mraise_from\u001B[0;34m(value, from_value)\u001B[0m\n",
      "File \u001B[0;32m/Library/Frameworks/Python.framework/Versions/3.11/lib/python3.11/site-packages/urllib3/connectionpool.py:444\u001B[0m, in \u001B[0;36mHTTPConnectionPool._make_request\u001B[0;34m(self, conn, method, url, timeout, chunked, **httplib_request_kw)\u001B[0m\n\u001B[1;32m    441\u001B[0m \u001B[38;5;28;01mexcept\u001B[39;00m \u001B[38;5;167;01mTypeError\u001B[39;00m:\n\u001B[1;32m    442\u001B[0m     \u001B[38;5;66;03m# Python 3\u001B[39;00m\n\u001B[1;32m    443\u001B[0m     \u001B[38;5;28;01mtry\u001B[39;00m:\n\u001B[0;32m--> 444\u001B[0m         httplib_response \u001B[38;5;241m=\u001B[39m \u001B[43mconn\u001B[49m\u001B[38;5;241;43m.\u001B[39;49m\u001B[43mgetresponse\u001B[49m\u001B[43m(\u001B[49m\u001B[43m)\u001B[49m\n\u001B[1;32m    445\u001B[0m     \u001B[38;5;28;01mexcept\u001B[39;00m \u001B[38;5;167;01mBaseException\u001B[39;00m \u001B[38;5;28;01mas\u001B[39;00m e:\n\u001B[1;32m    446\u001B[0m         \u001B[38;5;66;03m# Remove the TypeError from the exception chain in\u001B[39;00m\n\u001B[1;32m    447\u001B[0m         \u001B[38;5;66;03m# Python 3 (including for exceptions like SystemExit).\u001B[39;00m\n\u001B[1;32m    448\u001B[0m         \u001B[38;5;66;03m# Otherwise it looks like a bug in the code.\u001B[39;00m\n\u001B[1;32m    449\u001B[0m         six\u001B[38;5;241m.\u001B[39mraise_from(e, \u001B[38;5;28;01mNone\u001B[39;00m)\n",
      "File \u001B[0;32m/Library/Frameworks/Python.framework/Versions/3.11/lib/python3.11/http/client.py:1374\u001B[0m, in \u001B[0;36mHTTPConnection.getresponse\u001B[0;34m(self)\u001B[0m\n\u001B[1;32m   1372\u001B[0m \u001B[38;5;28;01mtry\u001B[39;00m:\n\u001B[1;32m   1373\u001B[0m     \u001B[38;5;28;01mtry\u001B[39;00m:\n\u001B[0;32m-> 1374\u001B[0m         \u001B[43mresponse\u001B[49m\u001B[38;5;241;43m.\u001B[39;49m\u001B[43mbegin\u001B[49m\u001B[43m(\u001B[49m\u001B[43m)\u001B[49m\n\u001B[1;32m   1375\u001B[0m     \u001B[38;5;28;01mexcept\u001B[39;00m \u001B[38;5;167;01mConnectionError\u001B[39;00m:\n\u001B[1;32m   1376\u001B[0m         \u001B[38;5;28mself\u001B[39m\u001B[38;5;241m.\u001B[39mclose()\n",
      "File \u001B[0;32m/Library/Frameworks/Python.framework/Versions/3.11/lib/python3.11/http/client.py:318\u001B[0m, in \u001B[0;36mHTTPResponse.begin\u001B[0;34m(self)\u001B[0m\n\u001B[1;32m    316\u001B[0m \u001B[38;5;66;03m# read until we get a non-100 response\u001B[39;00m\n\u001B[1;32m    317\u001B[0m \u001B[38;5;28;01mwhile\u001B[39;00m \u001B[38;5;28;01mTrue\u001B[39;00m:\n\u001B[0;32m--> 318\u001B[0m     version, status, reason \u001B[38;5;241m=\u001B[39m \u001B[38;5;28;43mself\u001B[39;49m\u001B[38;5;241;43m.\u001B[39;49m\u001B[43m_read_status\u001B[49m\u001B[43m(\u001B[49m\u001B[43m)\u001B[49m\n\u001B[1;32m    319\u001B[0m     \u001B[38;5;28;01mif\u001B[39;00m status \u001B[38;5;241m!=\u001B[39m CONTINUE:\n\u001B[1;32m    320\u001B[0m         \u001B[38;5;28;01mbreak\u001B[39;00m\n",
      "File \u001B[0;32m/Library/Frameworks/Python.framework/Versions/3.11/lib/python3.11/http/client.py:279\u001B[0m, in \u001B[0;36mHTTPResponse._read_status\u001B[0;34m(self)\u001B[0m\n\u001B[1;32m    278\u001B[0m \u001B[38;5;28;01mdef\u001B[39;00m \u001B[38;5;21m_read_status\u001B[39m(\u001B[38;5;28mself\u001B[39m):\n\u001B[0;32m--> 279\u001B[0m     line \u001B[38;5;241m=\u001B[39m \u001B[38;5;28mstr\u001B[39m(\u001B[38;5;28mself\u001B[39m\u001B[38;5;241m.\u001B[39mfp\u001B[38;5;241m.\u001B[39mreadline(_MAXLINE \u001B[38;5;241m+\u001B[39m \u001B[38;5;241m1\u001B[39m), \u001B[38;5;124m\"\u001B[39m\u001B[38;5;124miso-8859-1\u001B[39m\u001B[38;5;124m\"\u001B[39m)\n\u001B[1;32m    280\u001B[0m     \u001B[38;5;28;01mif\u001B[39;00m \u001B[38;5;28mlen\u001B[39m(line) \u001B[38;5;241m>\u001B[39m _MAXLINE:\n\u001B[1;32m    281\u001B[0m         \u001B[38;5;28;01mraise\u001B[39;00m LineTooLong(\u001B[38;5;124m\"\u001B[39m\u001B[38;5;124mstatus line\u001B[39m\u001B[38;5;124m\"\u001B[39m)\n",
      "File \u001B[0;32m/Library/Frameworks/Python.framework/Versions/3.11/lib/python3.11/socket.py:706\u001B[0m, in \u001B[0;36mSocketIO.readinto\u001B[0;34m(self, b)\u001B[0m\n\u001B[1;32m    704\u001B[0m \u001B[38;5;28;01mwhile\u001B[39;00m \u001B[38;5;28;01mTrue\u001B[39;00m:\n\u001B[1;32m    705\u001B[0m     \u001B[38;5;28;01mtry\u001B[39;00m:\n\u001B[0;32m--> 706\u001B[0m         \u001B[38;5;28;01mreturn\u001B[39;00m \u001B[38;5;28;43mself\u001B[39;49m\u001B[38;5;241;43m.\u001B[39;49m\u001B[43m_sock\u001B[49m\u001B[38;5;241;43m.\u001B[39;49m\u001B[43mrecv_into\u001B[49m\u001B[43m(\u001B[49m\u001B[43mb\u001B[49m\u001B[43m)\u001B[49m\n\u001B[1;32m    707\u001B[0m     \u001B[38;5;28;01mexcept\u001B[39;00m timeout:\n\u001B[1;32m    708\u001B[0m         \u001B[38;5;28mself\u001B[39m\u001B[38;5;241m.\u001B[39m_timeout_occurred \u001B[38;5;241m=\u001B[39m \u001B[38;5;28;01mTrue\u001B[39;00m\n",
      "\u001B[0;31mKeyboardInterrupt\u001B[0m: "
     ]
    }
   ],
   "source": [
    "url = \"https://n-katalog.ru/category/stiralnye-mashiny/list/page-\"\n",
    "parse(url, \"Холодильник\", 23)"
   ],
   "metadata": {
    "collapsed": false,
    "ExecuteTime": {
     "start_time": "2023-05-17T11:07:53.521674Z",
     "end_time": "2023-05-17T11:08:27.242753Z"
    }
   }
  },
  {
   "cell_type": "code",
   "execution_count": 18,
   "outputs": [
    {
     "data": {
      "text/plain": "                                      name     category  \\\n0             Asus TUF Gaming F15 FX506HCB      Ноутбук   \n1                Huawei MateBook D 15 2021      Ноутбук   \n2                    Acer Nitro 5 AN515-57      Ноутбук   \n3     Asus ROG Zephyrus G14 (2022) GA402RJ      Ноутбук   \n4               Lenovo ThinkBook 15 G2 ITL      Ноутбук   \n...                                    ...          ...   \n3664                       Renova WS-70PET  Холодильник   \n3665                   Beko WSRE 7512 XAAI  Холодильник   \n3666                    Winia WMD-R912D1BW  Холодильник   \n3667                     Miele WWV 980 WPS  Холодильник   \n3668                Kuppersbusch WA 1920.0  Холодильник   \n\n                         characteristic1  \\\n0                            Тип:ноутбук   \n1                            Тип:ноутбук   \n2                            Тип:ноутбук   \n3                            Тип:ноутбук   \n4                            Тип:ноутбук   \n...                                  ...   \n3664  Тип загрузки:вертикальная загрузка   \n3665   Тип загрузки:фронтальная загрузка   \n3666   Тип загрузки:фронтальная загрузка   \n3667   Тип загрузки:фронтальная загрузка   \n3668   Тип загрузки:фронтальная загрузка   \n\n                               characteristic2  \\\n0                        Диагональ экрана:15.6   \n1                        Диагональ экрана:15.6   \n2                        Диагональ экрана:15.6   \n3                          Диагональ экрана:14   \n4                        Диагональ экрана:15.6   \n...                                        ...   \n3664                                Загрузка:7   \n3665           Программы:15 шт, быстрая стирка   \n3666           Программы:15 шт, быстрая стирка   \n3667  Программы:своя программа, быстрая стирка   \n3668                  Программы:быстрая стирка   \n\n                        characteristic3                characteristic4  \\\n0                         Серия:Core i5  Объем оперативной памяти:8 ГБ   \n1                         Серия:Core i5  Объем оперативной памяти:8 ГБ   \n2                         Серия:Core i7  Объем оперативной памяти:8 ГБ   \n3                         Серия:Ryzen 7  Объем оперативной памяти:8 ГБ   \n4                         Серия:Core i5  Объем оперативной памяти:8 ГБ   \n...                                 ...                            ...   \n3664  Макс. скорость отжима:1350 об/мин                    Сушилка:нет   \n3665              Защита от протечек:да                 Класс стирки:A   \n3666              Защита от протечек:да                 Класс стирки:A   \n3667              Защита от протечек:да                 Класс стирки:A   \n3668              Защита от протечек:да                 Класс стирки:A   \n\n                           characteristic5  \n0                Тип видеокарты:дискретная  \n1           Тип видеокарты:интегрированная  \n2                Тип видеокарты:дискретная  \n3                Тип видеокарты:дискретная  \n4           Тип видеокарты:интегрированная  \n...                                    ...  \n3664                 Материал бака:пластик  \n3665  Управление:поворотная ручка + кнопки  \n3666  Управление:поворотная ручка + кнопки  \n3667                  Управление:сенсорное  \n3668  Управление:поворотная ручка + кнопки  \n\n[3669 rows x 7 columns]",
      "text/html": "<div>\n<style scoped>\n    .dataframe tbody tr th:only-of-type {\n        vertical-align: middle;\n    }\n\n    .dataframe tbody tr th {\n        vertical-align: top;\n    }\n\n    .dataframe thead th {\n        text-align: right;\n    }\n</style>\n<table border=\"1\" class=\"dataframe\">\n  <thead>\n    <tr style=\"text-align: right;\">\n      <th></th>\n      <th>name</th>\n      <th>category</th>\n      <th>characteristic1</th>\n      <th>characteristic2</th>\n      <th>characteristic3</th>\n      <th>characteristic4</th>\n      <th>characteristic5</th>\n    </tr>\n  </thead>\n  <tbody>\n    <tr>\n      <th>0</th>\n      <td>Asus TUF Gaming F15 FX506HCB</td>\n      <td>Ноутбук</td>\n      <td>Тип:ноутбук</td>\n      <td>Диагональ экрана:15.6</td>\n      <td>Серия:Core i5</td>\n      <td>Объем оперативной памяти:8 ГБ</td>\n      <td>Тип видеокарты:дискретная</td>\n    </tr>\n    <tr>\n      <th>1</th>\n      <td>Huawei MateBook D 15 2021</td>\n      <td>Ноутбук</td>\n      <td>Тип:ноутбук</td>\n      <td>Диагональ экрана:15.6</td>\n      <td>Серия:Core i5</td>\n      <td>Объем оперативной памяти:8 ГБ</td>\n      <td>Тип видеокарты:интегрированная</td>\n    </tr>\n    <tr>\n      <th>2</th>\n      <td>Acer Nitro 5 AN515-57</td>\n      <td>Ноутбук</td>\n      <td>Тип:ноутбук</td>\n      <td>Диагональ экрана:15.6</td>\n      <td>Серия:Core i7</td>\n      <td>Объем оперативной памяти:8 ГБ</td>\n      <td>Тип видеокарты:дискретная</td>\n    </tr>\n    <tr>\n      <th>3</th>\n      <td>Asus ROG Zephyrus G14 (2022) GA402RJ</td>\n      <td>Ноутбук</td>\n      <td>Тип:ноутбук</td>\n      <td>Диагональ экрана:14</td>\n      <td>Серия:Ryzen 7</td>\n      <td>Объем оперативной памяти:8 ГБ</td>\n      <td>Тип видеокарты:дискретная</td>\n    </tr>\n    <tr>\n      <th>4</th>\n      <td>Lenovo ThinkBook 15 G2 ITL</td>\n      <td>Ноутбук</td>\n      <td>Тип:ноутбук</td>\n      <td>Диагональ экрана:15.6</td>\n      <td>Серия:Core i5</td>\n      <td>Объем оперативной памяти:8 ГБ</td>\n      <td>Тип видеокарты:интегрированная</td>\n    </tr>\n    <tr>\n      <th>...</th>\n      <td>...</td>\n      <td>...</td>\n      <td>...</td>\n      <td>...</td>\n      <td>...</td>\n      <td>...</td>\n      <td>...</td>\n    </tr>\n    <tr>\n      <th>3664</th>\n      <td>Renova WS-70PET</td>\n      <td>Холодильник</td>\n      <td>Тип загрузки:вертикальная загрузка</td>\n      <td>Загрузка:7</td>\n      <td>Макс. скорость отжима:1350 об/мин</td>\n      <td>Сушилка:нет</td>\n      <td>Материал бака:пластик</td>\n    </tr>\n    <tr>\n      <th>3665</th>\n      <td>Beko WSRE 7512 XAAI</td>\n      <td>Холодильник</td>\n      <td>Тип загрузки:фронтальная загрузка</td>\n      <td>Программы:15 шт, быстрая стирка</td>\n      <td>Защита от протечек:да</td>\n      <td>Класс стирки:A</td>\n      <td>Управление:поворотная ручка + кнопки</td>\n    </tr>\n    <tr>\n      <th>3666</th>\n      <td>Winia WMD-R912D1BW</td>\n      <td>Холодильник</td>\n      <td>Тип загрузки:фронтальная загрузка</td>\n      <td>Программы:15 шт, быстрая стирка</td>\n      <td>Защита от протечек:да</td>\n      <td>Класс стирки:A</td>\n      <td>Управление:поворотная ручка + кнопки</td>\n    </tr>\n    <tr>\n      <th>3667</th>\n      <td>Miele WWV 980 WPS</td>\n      <td>Холодильник</td>\n      <td>Тип загрузки:фронтальная загрузка</td>\n      <td>Программы:своя программа, быстрая стирка</td>\n      <td>Защита от протечек:да</td>\n      <td>Класс стирки:A</td>\n      <td>Управление:сенсорное</td>\n    </tr>\n    <tr>\n      <th>3668</th>\n      <td>Kuppersbusch WA 1920.0</td>\n      <td>Холодильник</td>\n      <td>Тип загрузки:фронтальная загрузка</td>\n      <td>Программы:быстрая стирка</td>\n      <td>Защита от протечек:да</td>\n      <td>Класс стирки:A</td>\n      <td>Управление:поворотная ручка + кнопки</td>\n    </tr>\n  </tbody>\n</table>\n<p>3669 rows × 7 columns</p>\n</div>"
     },
     "execution_count": 18,
     "metadata": {},
     "output_type": "execute_result"
    }
   ],
   "source": [
    "items_df"
   ],
   "metadata": {
    "collapsed": false,
    "ExecuteTime": {
     "start_time": "2023-05-17T13:15:18.148579Z",
     "end_time": "2023-05-17T13:15:18.163222Z"
    }
   }
  },
  {
   "cell_type": "code",
   "execution_count": 19,
   "outputs": [
    {
     "data": {
      "text/plain": "                              name        price               shop\n0     Asus TUF Gaming F15 FX506HCB   66990 руб.     MobiComShop  →\n1     Asus TUF Gaming F15 FX506HCB   90110 руб.        КотоФото  →\n2        Huawei MateBook D 15 2021   49999 руб.        Ситилинк  →\n3        Huawei MateBook D 15 2021   51084 руб.          ТРУБКА  →\n4            Acer Nitro 5 AN515-57   73690 руб.     MobiComShop  →\n...                            ...          ...                ...\n4209           Beko WSRE 7512 XAAI   29680 руб.       Эталон-БТ  →\n4210            Winia WMD-R912D1BW   30380 руб.       Эталон-БТ  →\n4211             Miele WWV 980 WPS  357096 руб.    ТехноторгХит  →\n4212             Miele WWV 980 WPS  389579 руб.  Азбука Техники  →\n4213        Kuppersbusch WA 1920.0  233910 руб.       Эталон-БТ  →\n\n[4214 rows x 3 columns]",
      "text/html": "<div>\n<style scoped>\n    .dataframe tbody tr th:only-of-type {\n        vertical-align: middle;\n    }\n\n    .dataframe tbody tr th {\n        vertical-align: top;\n    }\n\n    .dataframe thead th {\n        text-align: right;\n    }\n</style>\n<table border=\"1\" class=\"dataframe\">\n  <thead>\n    <tr style=\"text-align: right;\">\n      <th></th>\n      <th>name</th>\n      <th>price</th>\n      <th>shop</th>\n    </tr>\n  </thead>\n  <tbody>\n    <tr>\n      <th>0</th>\n      <td>Asus TUF Gaming F15 FX506HCB</td>\n      <td>66990 руб.</td>\n      <td>MobiComShop  →</td>\n    </tr>\n    <tr>\n      <th>1</th>\n      <td>Asus TUF Gaming F15 FX506HCB</td>\n      <td>90110 руб.</td>\n      <td>КотоФото  →</td>\n    </tr>\n    <tr>\n      <th>2</th>\n      <td>Huawei MateBook D 15 2021</td>\n      <td>49999 руб.</td>\n      <td>Ситилинк  →</td>\n    </tr>\n    <tr>\n      <th>3</th>\n      <td>Huawei MateBook D 15 2021</td>\n      <td>51084 руб.</td>\n      <td>ТРУБКА  →</td>\n    </tr>\n    <tr>\n      <th>4</th>\n      <td>Acer Nitro 5 AN515-57</td>\n      <td>73690 руб.</td>\n      <td>MobiComShop  →</td>\n    </tr>\n    <tr>\n      <th>...</th>\n      <td>...</td>\n      <td>...</td>\n      <td>...</td>\n    </tr>\n    <tr>\n      <th>4209</th>\n      <td>Beko WSRE 7512 XAAI</td>\n      <td>29680 руб.</td>\n      <td>Эталон-БТ  →</td>\n    </tr>\n    <tr>\n      <th>4210</th>\n      <td>Winia WMD-R912D1BW</td>\n      <td>30380 руб.</td>\n      <td>Эталон-БТ  →</td>\n    </tr>\n    <tr>\n      <th>4211</th>\n      <td>Miele WWV 980 WPS</td>\n      <td>357096 руб.</td>\n      <td>ТехноторгХит  →</td>\n    </tr>\n    <tr>\n      <th>4212</th>\n      <td>Miele WWV 980 WPS</td>\n      <td>389579 руб.</td>\n      <td>Азбука Техники  →</td>\n    </tr>\n    <tr>\n      <th>4213</th>\n      <td>Kuppersbusch WA 1920.0</td>\n      <td>233910 руб.</td>\n      <td>Эталон-БТ  →</td>\n    </tr>\n  </tbody>\n</table>\n<p>4214 rows × 3 columns</p>\n</div>"
     },
     "execution_count": 19,
     "metadata": {},
     "output_type": "execute_result"
    }
   ],
   "source": [
    "deals_df"
   ],
   "metadata": {
    "collapsed": false,
    "ExecuteTime": {
     "start_time": "2023-05-17T13:15:24.545487Z",
     "end_time": "2023-05-17T13:15:24.551340Z"
    }
   }
  },
  {
   "cell_type": "code",
   "execution_count": 20,
   "outputs": [],
   "source": [
    "items_df.to_csv(\"items.csv\", index=False)\n",
    "deals_df.to_csv(\"deals.csv\", index=False)"
   ],
   "metadata": {
    "collapsed": false,
    "ExecuteTime": {
     "start_time": "2023-05-17T13:15:27.845418Z",
     "end_time": "2023-05-17T13:15:27.874255Z"
    }
   }
  },
  {
   "cell_type": "code",
   "execution_count": 16,
   "outputs": [
    {
     "ename": "KeyboardInterrupt",
     "evalue": "",
     "output_type": "error",
     "traceback": [
      "\u001B[0;31m---------------------------------------------------------------------------\u001B[0m",
      "\u001B[0;31mKeyboardInterrupt\u001B[0m                         Traceback (most recent call last)",
      "Cell \u001B[0;32mIn[16], line 8\u001B[0m\n\u001B[1;32m      5\u001B[0m users \u001B[38;5;241m=\u001B[39m pd\u001B[38;5;241m.\u001B[39mDataFrame(columns\u001B[38;5;241m=\u001B[39m[\u001B[38;5;124m\"\u001B[39m\u001B[38;5;124memail\u001B[39m\u001B[38;5;124m\"\u001B[39m, \u001B[38;5;124m\"\u001B[39m\u001B[38;5;124mname\u001B[39m\u001B[38;5;124m\"\u001B[39m, \u001B[38;5;124m\"\u001B[39m\u001B[38;5;124mpassword\u001B[39m\u001B[38;5;124m\"\u001B[39m])\n\u001B[1;32m      7\u001B[0m \u001B[38;5;28;01mfor\u001B[39;00m i \u001B[38;5;129;01min\u001B[39;00m \u001B[38;5;28mrange\u001B[39m(USERS_COUNT):\n\u001B[0;32m----> 8\u001B[0m     nickname \u001B[38;5;241m=\u001B[39m \u001B[38;5;28mstr\u001B[39m(\u001B[43mnames\u001B[49m\u001B[38;5;241;43m.\u001B[39;49m\u001B[43mget_first_name\u001B[49m\u001B[43m(\u001B[49m\u001B[43m)\u001B[49m) \u001B[38;5;241m+\u001B[39m \u001B[38;5;28mstr\u001B[39m(random\u001B[38;5;241m.\u001B[39mrandint(\u001B[38;5;241m10\u001B[39m, \u001B[38;5;241m99\u001B[39m))\n\u001B[1;32m     10\u001B[0m     v \u001B[38;5;241m=\u001B[39m random\u001B[38;5;241m.\u001B[39mrandint(\u001B[38;5;241m1\u001B[39m, \u001B[38;5;241m2\u001B[39m)\n\u001B[1;32m     11\u001B[0m     add \u001B[38;5;241m=\u001B[39m \u001B[38;5;124m\"\u001B[39m\u001B[38;5;124m\"\u001B[39m\n",
      "File \u001B[0;32m/Library/Frameworks/Python.framework/Versions/3.11/lib/python3.11/site-packages/names/__init__.py:35\u001B[0m, in \u001B[0;36mget_first_name\u001B[0;34m(gender)\u001B[0m\n\u001B[1;32m     33\u001B[0m \u001B[38;5;28;01mif\u001B[39;00m gender \u001B[38;5;129;01mnot\u001B[39;00m \u001B[38;5;129;01min\u001B[39;00m (\u001B[38;5;124m'\u001B[39m\u001B[38;5;124mmale\u001B[39m\u001B[38;5;124m'\u001B[39m, \u001B[38;5;124m'\u001B[39m\u001B[38;5;124mfemale\u001B[39m\u001B[38;5;124m'\u001B[39m):\n\u001B[1;32m     34\u001B[0m     gender \u001B[38;5;241m=\u001B[39m random\u001B[38;5;241m.\u001B[39mchoice((\u001B[38;5;124m'\u001B[39m\u001B[38;5;124mmale\u001B[39m\u001B[38;5;124m'\u001B[39m, \u001B[38;5;124m'\u001B[39m\u001B[38;5;124mfemale\u001B[39m\u001B[38;5;124m'\u001B[39m))\n\u001B[0;32m---> 35\u001B[0m \u001B[38;5;28;01mreturn\u001B[39;00m \u001B[43mget_name\u001B[49m\u001B[43m(\u001B[49m\u001B[43mFILES\u001B[49m\u001B[43m[\u001B[49m\u001B[38;5;124;43m'\u001B[39;49m\u001B[38;5;124;43mfirst:\u001B[39;49m\u001B[38;5;132;43;01m%s\u001B[39;49;00m\u001B[38;5;124;43m'\u001B[39;49m\u001B[43m \u001B[49m\u001B[38;5;241;43m%\u001B[39;49m\u001B[43m \u001B[49m\u001B[43mgender\u001B[49m\u001B[43m]\u001B[49m\u001B[43m)\u001B[49m\u001B[38;5;241m.\u001B[39mcapitalize()\n",
      "File \u001B[0;32m/Library/Frameworks/Python.framework/Versions/3.11/lib/python3.11/site-packages/names/__init__.py:26\u001B[0m, in \u001B[0;36mget_name\u001B[0;34m(filename)\u001B[0m\n\u001B[1;32m     24\u001B[0m \u001B[38;5;28;01mwith\u001B[39;00m \u001B[38;5;28mopen\u001B[39m(filename) \u001B[38;5;28;01mas\u001B[39;00m name_file:\n\u001B[1;32m     25\u001B[0m     \u001B[38;5;28;01mfor\u001B[39;00m line \u001B[38;5;129;01min\u001B[39;00m name_file:\n\u001B[0;32m---> 26\u001B[0m         name, _, cummulative, _ \u001B[38;5;241m=\u001B[39m line\u001B[38;5;241m.\u001B[39msplit()\n\u001B[1;32m     27\u001B[0m         \u001B[38;5;28;01mif\u001B[39;00m \u001B[38;5;28mfloat\u001B[39m(cummulative) \u001B[38;5;241m>\u001B[39m selected:\n\u001B[1;32m     28\u001B[0m             \u001B[38;5;28;01mreturn\u001B[39;00m name\n",
      "\u001B[0;31mKeyboardInterrupt\u001B[0m: "
     ]
    }
   ],
   "source": [
    "import names\n",
    "import random\n",
    "USERS_COUNT = 100000\n",
    "\n",
    "users = pd.DataFrame(columns=[\"email\", \"name\", \"password\"])\n",
    "\n",
    "for i in range(USERS_COUNT):\n",
    "    nickname = str(names.get_first_name()) + str(random.randint(10, 99))\n",
    "\n",
    "    v = random.randint(1, 2)\n",
    "    add = \"\"\n",
    "    if v == 1:\n",
    "        add = \"@gmail.com\"\n",
    "    if v == 2:\n",
    "        add = \"@hotmail.com\"\n",
    "    if v == 3:\n",
    "        add = \"@mail.com\"\n",
    "\n",
    "    email = nickname + str(random.randint(10, 99)) + add\n",
    "    password = nickname + str(random.randint(1000, 9999))\n",
    "    # print(nickname)\n",
    "    data = [email, nickname, password]\n",
    "\n",
    "\n",
    "    if email not in users.email.values:\n",
    "        users.loc[len(users)] = data\n",
    "\n",
    "\n"
   ],
   "metadata": {
    "collapsed": false,
    "ExecuteTime": {
     "start_time": "2023-05-17T17:05:06.771297Z",
     "end_time": "2023-05-17T17:05:11.736799Z"
    }
   }
  },
  {
   "cell_type": "code",
   "execution_count": 17,
   "outputs": [],
   "source": [
    "users.to_csv(\"user.csv\", index=False)"
   ],
   "metadata": {
    "collapsed": false,
    "ExecuteTime": {
     "start_time": "2023-05-17T17:08:35.840185Z",
     "end_time": "2023-05-17T17:08:35.947119Z"
    }
   }
  },
  {
   "cell_type": "code",
   "execution_count": 18,
   "outputs": [],
   "source": [
    "stores = {\n",
    "    \"МВидео\": \"https://www.mvideo.ru/\",\n",
    "    \"Ситилинк\": \"https://www.citilink.ru/\",\n",
    "    \"ДНС\": \"https://www.dns-shop.ru/\",\n",
    "    \"Эльдорадо\": \"https://www.eldorado.ru/\",\n",
    "    \"BigGeek\": \"https://biggeek.ru/\",\n",
    "    \"Связной\": \"https://www.svyaznoy.ru/\",\n",
    "    \"Restore\": \"https://re-store.ru/\",\n",
    "    \"Holodilnik\": \"https://www.holodilnik.ru/\",\n",
    "    \"СберМегаМаркет\": \"https://sbermegamarket.ru/\",\n",
    "    \"OLDI\": \"https://www.oldi.ru/\",\n",
    "    \"Корпорация «Центр»\": \"https://kcentr.ru/\",\n",
    "    \"Юлмарт\": \"https://ulmart-katalog.ru/\",\n",
    "    \"Технопорт\": \"https://www.techport.ru/\",\n",
    "    \"StoreX24\": \"StoreX24.ru\",\n",
    "    \"Wishmaster\": \"Wishmaster.me\",\n",
    "    \"Video Shoper\": \"Video-shoper.ru\",\n",
    "    \"Sold Out\": \"Sold-Out.ru\",\n",
    "    \"coxo\": \"coxo.ru\",\n",
    "    \"Shop Trubka\": \"Shop-Trubka.ru\",\n",
    "    \"Quke\": \"Quke.ru\",\n",
    "    \"iPort\": \"iPort.ru\",\n",
    "    \"123\": \"123.ru\"\n",
    "}\n",
    "\n",
    "df_stores = pd.DataFrame(data=stores.items(), columns=[\"shop\", \"link\"])\n",
    "df_stores.to_csv(\"shop.csv\", index=False)"
   ],
   "metadata": {
    "collapsed": false,
    "ExecuteTime": {
     "start_time": "2023-05-17T17:09:44.963281Z",
     "end_time": "2023-05-17T17:09:44.970263Z"
    }
   }
  },
  {
   "cell_type": "code",
   "execution_count": 19,
   "outputs": [],
   "source": [
    "items_df = pd.read_csv(\"items.csv\")\n",
    "deals_df = pd.read_csv(\"deals.csv\")"
   ],
   "metadata": {
    "collapsed": false,
    "ExecuteTime": {
     "start_time": "2023-05-17T17:09:45.731408Z",
     "end_time": "2023-05-17T17:09:45.747606Z"
    }
   }
  },
  {
   "cell_type": "code",
   "execution_count": 20,
   "outputs": [],
   "source": [
    "# brands\n",
    "df_brands = pd.DataFrame(columns=[\"name\", \"info\"])\n",
    "df1 = pd.DataFrame(columns=[\"name\"])\n",
    "\n",
    "# catefories\n",
    "df_categories = pd.DataFrame([[\"Ноутбук\", \"Это ноутбук\"], [\"Мобильный телефон\" , \"Это просто мобильный телефон\"], [\"Наушники\" , \"Это наушники\"], [\"Монитор\" , \"Это монитор\"],\n",
    "                              [\"Холодильник\", \"Холодильники и морозильные камеры\"]], columns=[\"name\", \"discript\"])\n",
    "\n",
    "\n",
    "# products\n",
    "df_prod = pd.DataFrame(columns=[\"category_id\", \"brand_id\", \"name\", \"date_added\"])\n",
    "df_prod_char = pd.DataFrame(columns=[\"prod_id\", \"char_id\", \"value\"])\n",
    "df_char = pd.DataFrame(columns=[\"name\", \"info\"])\n",
    "\n",
    "df_mod = pd.DataFrame(columns=[\"prod_id\", \"name\"])\n",
    "\n",
    "df_favor_prod = pd.DataFrame(columns=[\"prod_id\", \"mail\", \"date\"])\n",
    "df_prod_over = pd.DataFrame(columns=[\"prod_id\", \"mail\", \"score\", \"text\", \"date\"])\n",
    "df_history = pd.DataFrame(columns=[\"prod_id\", \"mail\", \"date\"])\n",
    "\n",
    "\n",
    "\n",
    "for i in range(items_df.shape[0]):\n",
    "\n",
    "    # brands\n",
    "    df1.loc[len(df1)] = [items_df.iloc[i][\"name\"].split(\" \")[0]]\n",
    "\n",
    "# brands\n",
    "df1 = pd.DataFrame(df1.name.unique(), columns=[\"name\"])\n",
    "for i in range(df1.shape[0]):\n",
    "    df_brands.loc[len(df_brands)] = [df1.iat[i, 0], f\"Just {df1.iat[i, 0]}\"]\n",
    "df_brands.to_csv(\"brand.csv\", index=False)"
   ],
   "metadata": {
    "collapsed": false,
    "ExecuteTime": {
     "start_time": "2023-05-17T17:09:47.135469Z",
     "end_time": "2023-05-17T17:09:48.019369Z"
    }
   }
  },
  {
   "cell_type": "code",
   "execution_count": 21,
   "outputs": [],
   "source": [
    "df_categories.to_csv(\"categories.csv\", index=False)"
   ],
   "metadata": {
    "collapsed": false,
    "ExecuteTime": {
     "start_time": "2023-05-17T17:09:48.672335Z",
     "end_time": "2023-05-17T17:09:48.683919Z"
    }
   }
  },
  {
   "cell_type": "code",
   "execution_count": 22,
   "outputs": [],
   "source": [
    "import random\n",
    "for i in range(items_df.shape[0]):\n",
    "    date = str(random.randint(2010, 2023)) + \"-\" + str(random.randint(1, 12)) + \"-\" + str(random.randint(1, 28))\n",
    "\n",
    "    df_prod.loc[len(df_prod)] = [df_categories.loc[df_categories['name'].isin([items_df.iat[i, 1]])].index.values[0],\n",
    "                                 df_brands.loc[df_brands['name'].isin([items_df.iat[i, 0].split(\" \")[0]])].index.values[0],\n",
    "                                 items_df.iat[i, 0],\n",
    "                                 date]\n",
    "\n",
    "    pass\n",
    "df_prod.to_csv(\"product.csv\", index=False)"
   ],
   "metadata": {
    "collapsed": false,
    "ExecuteTime": {
     "start_time": "2023-05-17T17:09:50.280791Z",
     "end_time": "2023-05-17T17:09:52.108192Z"
    }
   }
  },
  {
   "cell_type": "code",
   "execution_count": 23,
   "outputs": [
    {
     "data": {
      "text/plain": "                                      name     category  \\\n0             Asus TUF Gaming F15 FX506HCB      Ноутбук   \n1                Huawei MateBook D 15 2021      Ноутбук   \n2                    Acer Nitro 5 AN515-57      Ноутбук   \n3     Asus ROG Zephyrus G14 (2022) GA402RJ      Ноутбук   \n4               Lenovo ThinkBook 15 G2 ITL      Ноутбук   \n...                                    ...          ...   \n3664                       Renova WS-70PET  Холодильник   \n3665                   Beko WSRE 7512 XAAI  Холодильник   \n3666                    Winia WMD-R912D1BW  Холодильник   \n3667                     Miele WWV 980 WPS  Холодильник   \n3668                Kuppersbusch WA 1920.0  Холодильник   \n\n                         characteristic1  \\\n0                            Тип:ноутбук   \n1                            Тип:ноутбук   \n2                            Тип:ноутбук   \n3                            Тип:ноутбук   \n4                            Тип:ноутбук   \n...                                  ...   \n3664  Тип загрузки:вертикальная загрузка   \n3665   Тип загрузки:фронтальная загрузка   \n3666   Тип загрузки:фронтальная загрузка   \n3667   Тип загрузки:фронтальная загрузка   \n3668   Тип загрузки:фронтальная загрузка   \n\n                               characteristic2  \\\n0                        Диагональ экрана:15.6   \n1                        Диагональ экрана:15.6   \n2                        Диагональ экрана:15.6   \n3                          Диагональ экрана:14   \n4                        Диагональ экрана:15.6   \n...                                        ...   \n3664                                Загрузка:7   \n3665           Программы:15 шт, быстрая стирка   \n3666           Программы:15 шт, быстрая стирка   \n3667  Программы:своя программа, быстрая стирка   \n3668                  Программы:быстрая стирка   \n\n                        characteristic3                characteristic4  \\\n0                         Серия:Core i5  Объем оперативной памяти:8 ГБ   \n1                         Серия:Core i5  Объем оперативной памяти:8 ГБ   \n2                         Серия:Core i7  Объем оперативной памяти:8 ГБ   \n3                         Серия:Ryzen 7  Объем оперативной памяти:8 ГБ   \n4                         Серия:Core i5  Объем оперативной памяти:8 ГБ   \n...                                 ...                            ...   \n3664  Макс. скорость отжима:1350 об/мин                    Сушилка:нет   \n3665              Защита от протечек:да                 Класс стирки:A   \n3666              Защита от протечек:да                 Класс стирки:A   \n3667              Защита от протечек:да                 Класс стирки:A   \n3668              Защита от протечек:да                 Класс стирки:A   \n\n                           characteristic5  \n0                Тип видеокарты:дискретная  \n1           Тип видеокарты:интегрированная  \n2                Тип видеокарты:дискретная  \n3                Тип видеокарты:дискретная  \n4           Тип видеокарты:интегрированная  \n...                                    ...  \n3664                 Материал бака:пластик  \n3665  Управление:поворотная ручка + кнопки  \n3666  Управление:поворотная ручка + кнопки  \n3667                  Управление:сенсорное  \n3668  Управление:поворотная ручка + кнопки  \n\n[3669 rows x 7 columns]",
      "text/html": "<div>\n<style scoped>\n    .dataframe tbody tr th:only-of-type {\n        vertical-align: middle;\n    }\n\n    .dataframe tbody tr th {\n        vertical-align: top;\n    }\n\n    .dataframe thead th {\n        text-align: right;\n    }\n</style>\n<table border=\"1\" class=\"dataframe\">\n  <thead>\n    <tr style=\"text-align: right;\">\n      <th></th>\n      <th>name</th>\n      <th>category</th>\n      <th>characteristic1</th>\n      <th>characteristic2</th>\n      <th>characteristic3</th>\n      <th>characteristic4</th>\n      <th>characteristic5</th>\n    </tr>\n  </thead>\n  <tbody>\n    <tr>\n      <th>0</th>\n      <td>Asus TUF Gaming F15 FX506HCB</td>\n      <td>Ноутбук</td>\n      <td>Тип:ноутбук</td>\n      <td>Диагональ экрана:15.6</td>\n      <td>Серия:Core i5</td>\n      <td>Объем оперативной памяти:8 ГБ</td>\n      <td>Тип видеокарты:дискретная</td>\n    </tr>\n    <tr>\n      <th>1</th>\n      <td>Huawei MateBook D 15 2021</td>\n      <td>Ноутбук</td>\n      <td>Тип:ноутбук</td>\n      <td>Диагональ экрана:15.6</td>\n      <td>Серия:Core i5</td>\n      <td>Объем оперативной памяти:8 ГБ</td>\n      <td>Тип видеокарты:интегрированная</td>\n    </tr>\n    <tr>\n      <th>2</th>\n      <td>Acer Nitro 5 AN515-57</td>\n      <td>Ноутбук</td>\n      <td>Тип:ноутбук</td>\n      <td>Диагональ экрана:15.6</td>\n      <td>Серия:Core i7</td>\n      <td>Объем оперативной памяти:8 ГБ</td>\n      <td>Тип видеокарты:дискретная</td>\n    </tr>\n    <tr>\n      <th>3</th>\n      <td>Asus ROG Zephyrus G14 (2022) GA402RJ</td>\n      <td>Ноутбук</td>\n      <td>Тип:ноутбук</td>\n      <td>Диагональ экрана:14</td>\n      <td>Серия:Ryzen 7</td>\n      <td>Объем оперативной памяти:8 ГБ</td>\n      <td>Тип видеокарты:дискретная</td>\n    </tr>\n    <tr>\n      <th>4</th>\n      <td>Lenovo ThinkBook 15 G2 ITL</td>\n      <td>Ноутбук</td>\n      <td>Тип:ноутбук</td>\n      <td>Диагональ экрана:15.6</td>\n      <td>Серия:Core i5</td>\n      <td>Объем оперативной памяти:8 ГБ</td>\n      <td>Тип видеокарты:интегрированная</td>\n    </tr>\n    <tr>\n      <th>...</th>\n      <td>...</td>\n      <td>...</td>\n      <td>...</td>\n      <td>...</td>\n      <td>...</td>\n      <td>...</td>\n      <td>...</td>\n    </tr>\n    <tr>\n      <th>3664</th>\n      <td>Renova WS-70PET</td>\n      <td>Холодильник</td>\n      <td>Тип загрузки:вертикальная загрузка</td>\n      <td>Загрузка:7</td>\n      <td>Макс. скорость отжима:1350 об/мин</td>\n      <td>Сушилка:нет</td>\n      <td>Материал бака:пластик</td>\n    </tr>\n    <tr>\n      <th>3665</th>\n      <td>Beko WSRE 7512 XAAI</td>\n      <td>Холодильник</td>\n      <td>Тип загрузки:фронтальная загрузка</td>\n      <td>Программы:15 шт, быстрая стирка</td>\n      <td>Защита от протечек:да</td>\n      <td>Класс стирки:A</td>\n      <td>Управление:поворотная ручка + кнопки</td>\n    </tr>\n    <tr>\n      <th>3666</th>\n      <td>Winia WMD-R912D1BW</td>\n      <td>Холодильник</td>\n      <td>Тип загрузки:фронтальная загрузка</td>\n      <td>Программы:15 шт, быстрая стирка</td>\n      <td>Защита от протечек:да</td>\n      <td>Класс стирки:A</td>\n      <td>Управление:поворотная ручка + кнопки</td>\n    </tr>\n    <tr>\n      <th>3667</th>\n      <td>Miele WWV 980 WPS</td>\n      <td>Холодильник</td>\n      <td>Тип загрузки:фронтальная загрузка</td>\n      <td>Программы:своя программа, быстрая стирка</td>\n      <td>Защита от протечек:да</td>\n      <td>Класс стирки:A</td>\n      <td>Управление:сенсорное</td>\n    </tr>\n    <tr>\n      <th>3668</th>\n      <td>Kuppersbusch WA 1920.0</td>\n      <td>Холодильник</td>\n      <td>Тип загрузки:фронтальная загрузка</td>\n      <td>Программы:быстрая стирка</td>\n      <td>Защита от протечек:да</td>\n      <td>Класс стирки:A</td>\n      <td>Управление:поворотная ручка + кнопки</td>\n    </tr>\n  </tbody>\n</table>\n<p>3669 rows × 7 columns</p>\n</div>"
     },
     "execution_count": 23,
     "metadata": {},
     "output_type": "execute_result"
    }
   ],
   "source": [
    "items_df"
   ],
   "metadata": {
    "collapsed": false,
    "ExecuteTime": {
     "start_time": "2023-05-17T17:09:53.251797Z",
     "end_time": "2023-05-17T17:09:53.286547Z"
    }
   }
  },
  {
   "cell_type": "code",
   "execution_count": 24,
   "outputs": [],
   "source": [
    "# characteristics\n",
    "df_char = pd.DataFrame(columns=[\"name\", \"info\"])\n",
    "\n",
    "for i in range(items_df.shape[0]):\n",
    "    c1 = items_df.at[i, \"characteristic1\"].split(\":\")\n",
    "    df_char.loc[len(df_char)] = [c1[0], str(\"Это характеристика под названием \" + str(c1[0]))]\n",
    "\n",
    "    c2 = items_df.at[i, \"characteristic2\"].split(\":\")\n",
    "    df_char.loc[len(df_char)] = [c2[0], str(\"Это характеристика под названием \" + str(c2[0]))]\n",
    "\n",
    "    c3 = items_df.at[i, \"characteristic3\"].split(\":\")\n",
    "    df_char.loc[len(df_char)] = [c3[0], str(\"Это характеристика под названием \" + str(c3[0]))]\n",
    "\n",
    "    c4 = items_df.at[i, \"characteristic4\"].split(\":\")\n",
    "    df_char.loc[len(df_char)] = [c4[0], str(\"Это характеристика под названием \" + str(c4[0]))]\n",
    "\n",
    "    c5 = items_df.at[i, \"characteristic5\"].split(\":\")\n",
    "    df_char.loc[len(df_char)] = [c5[0], str(\"Это характеристика под названием \" + str(c5[0]))]\n",
    "\n",
    "df_char = pd.DataFrame(df_char.name.unique(), columns=[\"name\"])\n",
    "df_char.to_csv(\"characteristic.csv\", index=False)"
   ],
   "metadata": {
    "collapsed": false,
    "ExecuteTime": {
     "start_time": "2023-05-17T17:09:54.202857Z",
     "end_time": "2023-05-17T17:10:01.941775Z"
    }
   }
  },
  {
   "cell_type": "code",
   "execution_count": 25,
   "outputs": [],
   "source": [
    "# prod characteristics\n",
    "df_prod_char = pd.DataFrame(columns=[\"prod_id\", \"char_id\", \"value\"])\n",
    "\n",
    "for i in range(items_df.shape[0]):\n",
    "    c1 = items_df.at[i, \"characteristic1\"].split(\":\")\n",
    "    id = df_char.loc[df_char['name'].isin([c1[0]])].index.values[0]\n",
    "    df_prod_char.loc[len(df_prod_char)] = [i, id, c1[1]]\n",
    "\n",
    "    c2 = items_df.at[i, \"characteristic2\"].split(\":\")\n",
    "    id = df_char.loc[df_char['name'].isin([c2[0]])].index.values[0]\n",
    "    df_prod_char.loc[len(df_prod_char)] = [i, id, c2[1]]\n",
    "\n",
    "    c3 = items_df.at[i, \"characteristic3\"].split(\":\")\n",
    "    id = df_char.loc[df_char['name'].isin([c3[0]])].index.values[0]\n",
    "    df_prod_char.loc[len(df_prod_char)] = [i, id, c3[1]]\n",
    "\n",
    "    c4 = items_df.at[i, \"characteristic4\"].split(\":\")\n",
    "    id = df_char.loc[df_char['name'].isin([c4[0]])].index.values[0]\n",
    "    df_prod_char.loc[len(df_prod_char)] = [i, id, c4[1]]\n",
    "\n",
    "    c5 = items_df.at[i, \"characteristic5\"].split(\":\")\n",
    "    id = df_char.loc[df_char['name'].isin([c5[0]])].index.values[0]\n",
    "    df_prod_char.loc[len(df_prod_char)] = [i, id, c5[1]]\n",
    "df_prod_char.to_csv(\"product_characteristic.csv\", index=False)"
   ],
   "metadata": {
    "collapsed": false,
    "ExecuteTime": {
     "start_time": "2023-05-17T17:10:01.946571Z",
     "end_time": "2023-05-17T17:10:11.214099Z"
    }
   }
  },
  {
   "cell_type": "code",
   "execution_count": 26,
   "outputs": [],
   "source": [
    "df_mod_charact = pd.DataFrame([[\"Цвет\", \"Цвет устройства\"], [\"SSD\", \"Объем встроенной памяти\"], [\"RAM\", \"Объем оперативной памяти\"]],\n",
    "                              columns=[\"name\", \"description\"])\n",
    "\n",
    "SSD = [128, 256, 512, 1024]\n",
    "RAM = [4, 8, 12, 16]\n",
    "COLOR = [\"Черный\", \"Белый\", \"Красный\", \"Темная ночь\", \"Комета\", \"Коричневый\", \"Черный\", \"Белый\", \"Серебристый\", \"Фиолетовый\"]\n",
    "\n",
    "\n",
    "\n",
    "df_mod = pd.DataFrame(columns=[\"product_id\", \"name\"])\n",
    "df_mod_charact_mod = pd.DataFrame(columns=[\"mod_char_id\", \"mod_id\", \"value\"])\n",
    "\n",
    "for i in range(df_prod.shape[0]):\n",
    "    if str(df_prod.at[i, \"category_id\"]) == str(0) or str(df_prod.at[i, \"category_id\"]) == str(1):\n",
    "        for j in range(2):\n",
    "            ssd = random.choice(SSD)\n",
    "            ram = random.choice(RAM)\n",
    "            color = random.choice(COLOR)\n",
    "            df_mod.loc[len(df_mod)] = [i, df_prod.at[i, \"name\"] + \", \" + str(ssd) + \", \" + str(ram) + \", \" + str(color)]\n",
    "\n",
    "            df_mod_charact_mod.loc[len(df_mod_charact_mod)] = [1, len(df_mod) - 1, ssd]\n",
    "            df_mod_charact_mod.loc[len(df_mod_charact_mod)] = [2, len(df_mod) - 1, ram]\n",
    "            df_mod_charact_mod.loc[len(df_mod_charact_mod)] = [0, len(df_mod) - 1, color]\n",
    "\n",
    "df_mod_charact.to_csv(\"mod_characteristic.csv\", index=False)\n",
    "df_mod.to_csv(\"modification.csv\", index=False)\n",
    "df_mod_charact_mod.to_csv(\"modification_mod_characteristic.csv\", index=False)\n"
   ],
   "metadata": {
    "collapsed": false,
    "ExecuteTime": {
     "start_time": "2023-05-17T17:10:11.228471Z",
     "end_time": "2023-05-17T17:10:19.615877Z"
    }
   }
  },
  {
   "cell_type": "code",
   "execution_count": 30,
   "outputs": [],
   "source": [
    "df_favorite_prod = pd.DataFrame(columns=[\"product_id\", \"mail\", \"date_added\"])\n",
    "df_browsing_history = pd.DataFrame(columns=[\"product_id\", \"mail\", \"date_added\"])\n",
    "df_product_overviews = pd.DataFrame(columns=[\"product_id\", \"mail\", \"score\", \"review_text\", \"date_added\"])\n",
    "\n",
    "EX = [\"Отлично! Это невероятно хороший продукт.\",\n",
    "        \"На самом деле прекрасный выбор!\",\n",
    "        \"\",\n",
    "        \"\",\n",
    "        \"\",\n",
    "        \"Прекрасный продукт.\"]\n",
    "\n",
    "GOOD = [\"Хорошо! Это хороший продукт.\",\n",
    "        \"На самом деле хороший выбор!\",\n",
    "        \"\",\n",
    "        \"\",\n",
    "        \"\",\n",
    "        \"Хороший продукт.\"]\n",
    "\n",
    "MID = [\"Средненько! Это средний по качеству продукт.\",\n",
    "       \"Ну неплохо.\",\n",
    "       \"\",\n",
    "       \"\",\n",
    "       \"\",\n",
    "       \"Просто средний продукт.\"]\n",
    "\n",
    "BAD = [\"Плохо! Мне не понравился.\",\n",
    "       \"Это ну такое.\",\n",
    "       \"\",\n",
    "       \"\",\n",
    "       \"\",\n",
    "       \"ФУ. Не куплю от этого бренда больше ничего.\"]\n",
    "\n",
    "for i in range(20000):\n",
    "    date = str(random.randint(2010, 2023)) + \"-\" + str(random.randint(1, 12)) + \"-\" + str(random.randint(1, 28))\n",
    "    us_id = random.randint(0, 80000)\n",
    "    rand = random.randint(0, len(df_prod))\n",
    "    df_favorite_prod.loc[len(df_favorite_prod)] = [rand,\n",
    "                                                   users.at[us_id, \"email\"],\n",
    "                                                   date]\n",
    "\n",
    "    df_browsing_history.loc[len(df_browsing_history)] = [rand,\n",
    "                                                         users.at[us_id, \"email\"],\n",
    "                                                         date]\n",
    "\n",
    "    if i % 2 == 0:\n",
    "        score = random.randint(0, 10)\n",
    "        if score > 8:\n",
    "            text = random.choice(EX)\n",
    "        elif score > 6:\n",
    "            text = random.choice(GOOD)\n",
    "        elif score > 4:\n",
    "            text = random.choice(MID)\n",
    "        else:\n",
    "            text = random.choice(BAD)\n",
    "\n",
    "        df_product_overviews.loc[len(df_product_overviews)] = [rand,\n",
    "                                                               users.at[us_id, \"email\"],\n",
    "                                                               random.randint(0, 10),\n",
    "                                                               text,\n",
    "                                                               date\n",
    "        ]\n",
    "\n",
    "    date = str(random.randint(2010, 2023)) + \"-\" + str(random.randint(1, 12)) + \"-\" + str(random.randint(1, 28))\n",
    "    df_browsing_history.loc[len(df_browsing_history)] = [random.randint(0, len(df_prod)),\n",
    "                                                         users.at[us_id, \"email\"],\n",
    "                                                         date]\n",
    "\n",
    "\n",
    "\n",
    "df_favorite_prod.to_csv(\"favorite_prod.csv\")\n",
    "df_browsing_history.to_csv(\"browsing_history.csv\")\n",
    "df_product_overviews.to_csv(\"product_overviews.csv\")"
   ],
   "metadata": {
    "collapsed": false,
    "ExecuteTime": {
     "start_time": "2023-05-17T17:10:43.700026Z",
     "end_time": "2023-05-17T17:11:26.136115Z"
    }
   }
  },
  {
   "cell_type": "code",
   "execution_count": 31,
   "outputs": [],
   "source": [
    "df_store_overviews = pd.DataFrame(columns=[\"mail\", \"shop_id\", \"score\", \"review_text\", \"date_added\"])\n",
    "\n",
    "EX = [\"Отлично! Это невероятно хороший магазин.\",\n",
    "      \"На самом деле прекрасный магазин, мне все понраивлос!\",\n",
    "      \"\",\n",
    "      \"\",\n",
    "      \"\",\n",
    "      \"Прекрасный магазин.\"]\n",
    "\n",
    "GOOD = [\"Хорошо! Это хороший магазин.\",\n",
    "        \"На самом деле хороший магазин!\",\n",
    "        \"\",\n",
    "        \"\",\n",
    "        \"\",\n",
    "        \"Хороший магазин.\"]\n",
    "\n",
    "MID = [\"Средненько! Это средний по сервису магазин.\",\n",
    "       \"Ну неплохо.\",\n",
    "       \"\",\n",
    "       \"\",\n",
    "       \"\",\n",
    "       \"Просто средний магазин.\"]\n",
    "\n",
    "BAD = [\"Плохо! Мне не понравился магазин.\",\n",
    "       \"Это ну такое.\",\n",
    "       \"\",\n",
    "       \"\",\n",
    "       \"\",\n",
    "       \"ФУ. Не куплю в этом магазине больше ничего.\"]\n",
    "\n",
    "for i in range(20000):\n",
    "    date = str(random.randint(2010, 2023)) + \"-\" + str(random.randint(1, 12)) + \"-\" + str(random.randint(1, 28))\n",
    "    us_id = random.randint(0, 80000)\n",
    "    rand = random.randint(0, len(df_stores))\n",
    "\n",
    "    if i % 2 == 0:\n",
    "        score = random.randint(0, 10)\n",
    "        if score > 8:\n",
    "            text = random.choice(EX)\n",
    "        elif score > 6:\n",
    "            text = random.choice(GOOD)\n",
    "        elif score > 4:\n",
    "            text = random.choice(MID)\n",
    "        else:\n",
    "            text = random.choice(BAD)\n",
    "\n",
    "        df_store_overviews.loc[len(df_store_overviews)] = [users.at[us_id, \"email\"],\n",
    "                                                            rand,\n",
    "\n",
    "                                                               random.randint(0, 10),\n",
    "                                                               text,\n",
    "                                                               date\n",
    "                                                               ]\n",
    "\n",
    "\n",
    "\n",
    "\n",
    "df_store_overviews.to_csv(\"store_overviews.csv\", index=False)"
   ],
   "metadata": {
    "collapsed": false,
    "ExecuteTime": {
     "start_time": "2023-05-17T17:11:33.652957Z",
     "end_time": "2023-05-17T17:11:38.497501Z"
    }
   }
  },
  {
   "cell_type": "code",
   "execution_count": 32,
   "outputs": [],
   "source": [
    "# offers и все!!!!\n",
    "df_offers = pd.DataFrame(columns=[\"modif_id\", \"shop_id\", \"cost\", \"link\"])\n",
    "\n",
    "# random\n",
    "# shops 23\n",
    "# mod 5962\n",
    "\n",
    "for i in range(13092):\n",
    "    shop_id = random.randint(0, 21)\n",
    "    mod_id = random.randint(0, 5961)\n",
    "    cost = random.randint(10000, 150000)\n",
    "    link = df_stores.at[shop_id, \"link\"]\n",
    "\n",
    "    df_offers.loc[len(df_offers)] = [mod_id, shop_id, cost, link]\n",
    "df_offers.to_csv(\"offer.csv\", index=False)"
   ],
   "metadata": {
    "collapsed": false,
    "ExecuteTime": {
     "start_time": "2023-05-17T17:11:44.076170Z",
     "end_time": "2023-05-17T17:11:49.443835Z"
    }
   }
  },
  {
   "cell_type": "code",
   "execution_count": 59,
   "outputs": [
    {
     "data": {
      "text/plain": "(13092, 4)"
     },
     "execution_count": 59,
     "metadata": {},
     "output_type": "execute_result"
    }
   ],
   "source": [
    "df_offers.shape"
   ],
   "metadata": {
    "collapsed": false,
    "ExecuteTime": {
     "start_time": "2023-05-17T15:23:29.038723Z",
     "end_time": "2023-05-17T15:23:29.041296Z"
    }
   }
  },
  {
   "cell_type": "code",
   "execution_count": 53,
   "outputs": [
    {
     "data": {
      "text/plain": "   category_id  brand_id                                  name date_added\n0            0         0          Asus TUF Gaming F15 FX506HCB  2020-8-22\n1            0         1             Huawei MateBook D 15 2021  2010-5-22\n2            0         2                 Acer Nitro 5 AN515-57  2023-3-22\n3            0         0  Asus ROG Zephyrus G14 (2022) GA402RJ   2016-9-9\n4            0         3            Lenovo ThinkBook 15 G2 ITL  2021-4-18",
      "text/html": "<div>\n<style scoped>\n    .dataframe tbody tr th:only-of-type {\n        vertical-align: middle;\n    }\n\n    .dataframe tbody tr th {\n        vertical-align: top;\n    }\n\n    .dataframe thead th {\n        text-align: right;\n    }\n</style>\n<table border=\"1\" class=\"dataframe\">\n  <thead>\n    <tr style=\"text-align: right;\">\n      <th></th>\n      <th>category_id</th>\n      <th>brand_id</th>\n      <th>name</th>\n      <th>date_added</th>\n    </tr>\n  </thead>\n  <tbody>\n    <tr>\n      <th>0</th>\n      <td>0</td>\n      <td>0</td>\n      <td>Asus TUF Gaming F15 FX506HCB</td>\n      <td>2020-8-22</td>\n    </tr>\n    <tr>\n      <th>1</th>\n      <td>0</td>\n      <td>1</td>\n      <td>Huawei MateBook D 15 2021</td>\n      <td>2010-5-22</td>\n    </tr>\n    <tr>\n      <th>2</th>\n      <td>0</td>\n      <td>2</td>\n      <td>Acer Nitro 5 AN515-57</td>\n      <td>2023-3-22</td>\n    </tr>\n    <tr>\n      <th>3</th>\n      <td>0</td>\n      <td>0</td>\n      <td>Asus ROG Zephyrus G14 (2022) GA402RJ</td>\n      <td>2016-9-9</td>\n    </tr>\n    <tr>\n      <th>4</th>\n      <td>0</td>\n      <td>3</td>\n      <td>Lenovo ThinkBook 15 G2 ITL</td>\n      <td>2021-4-18</td>\n    </tr>\n  </tbody>\n</table>\n</div>"
     },
     "execution_count": 53,
     "metadata": {},
     "output_type": "execute_result"
    }
   ],
   "source": [
    "df_prod.head()"
   ],
   "metadata": {
    "collapsed": false,
    "ExecuteTime": {
     "start_time": "2023-05-17T15:18:24.170988Z",
     "end_time": "2023-05-17T15:18:24.177008Z"
    }
   }
  },
  {
   "cell_type": "code",
   "execution_count": 48,
   "outputs": [
    {
     "data": {
      "text/plain": "        shop                      link\n0     МВидео    https://www.mvideo.ru/\n1   Ситилинк  https://www.citilink.ru/\n2        ДНС  https://www.dns-shop.ru/\n3  Эльдорадо  https://www.eldorado.ru/\n4    BigGeek       https://biggeek.ru/",
      "text/html": "<div>\n<style scoped>\n    .dataframe tbody tr th:only-of-type {\n        vertical-align: middle;\n    }\n\n    .dataframe tbody tr th {\n        vertical-align: top;\n    }\n\n    .dataframe thead th {\n        text-align: right;\n    }\n</style>\n<table border=\"1\" class=\"dataframe\">\n  <thead>\n    <tr style=\"text-align: right;\">\n      <th></th>\n      <th>shop</th>\n      <th>link</th>\n    </tr>\n  </thead>\n  <tbody>\n    <tr>\n      <th>0</th>\n      <td>МВидео</td>\n      <td>https://www.mvideo.ru/</td>\n    </tr>\n    <tr>\n      <th>1</th>\n      <td>Ситилинк</td>\n      <td>https://www.citilink.ru/</td>\n    </tr>\n    <tr>\n      <th>2</th>\n      <td>ДНС</td>\n      <td>https://www.dns-shop.ru/</td>\n    </tr>\n    <tr>\n      <th>3</th>\n      <td>Эльдорадо</td>\n      <td>https://www.eldorado.ru/</td>\n    </tr>\n    <tr>\n      <th>4</th>\n      <td>BigGeek</td>\n      <td>https://biggeek.ru/</td>\n    </tr>\n  </tbody>\n</table>\n</div>"
     },
     "execution_count": 48,
     "metadata": {},
     "output_type": "execute_result"
    }
   ],
   "source": [
    "df_stores.head()"
   ],
   "metadata": {
    "collapsed": false,
    "ExecuteTime": {
     "start_time": "2023-05-17T15:18:15.572358Z",
     "end_time": "2023-05-17T15:18:15.578875Z"
    }
   }
  },
  {
   "cell_type": "code",
   "execution_count": 25,
   "outputs": [
    {
     "name": "stdout",
     "output_type": "stream",
     "text": [
      "Наименование\n",
      "Койко-день в стационаре (профиль психиатрический (психоневрологический) для взрослых)\n",
      "Определение уровня общего магния в сыворотке крови на автоматическом анализаторе\n",
      "Определение аланин-аминотрансферазы в сыворотке крови на автоматическом анализаторе\n",
      "Определение аспартат-аминотрансферазы в сыворотке крови на автоматическом анализаторе\n",
      "Определение холестерина в сыворотке крови на автоматическом анализаторе\n",
      "Определение общего белка в сыворотке крови на автоматическом анализаторе\n",
      "Определение неорганического фосфора в сыворотке крови на автоматическом анализаторе\n",
      "Взятие крови из периферической вены\n",
      "Общий (клинический) анализ крови\n",
      "Анализ мочи общий на автоматическом анализаторе\n",
      "Определение С-реактивного белка в сыворотке крови\n",
      "Определение скорости оседания эритроцитов крови\n",
      "Определение аланин-аминотрансферазы в сыворотке крови на автоматическом анализаторе\n",
      "Определение аспартат-аминотрансферазы в сыворотке крови на автоматическом анализаторе\n",
      "Определение амилазы в сыворотке крови на автоматическом анализаторе\n",
      "Определение триглицеридов в сыворотке крови на автоматическом анализаторе\n",
      "Определение креатинина в сыворотке крови на автоматическом анализаторе\n",
      "Определение мочевины в сыворотке крови на автоматическом анализаторе\n",
      "Определение холестерина в сыворотке крови на автоматическом анализаторе\n",
      "Определение общего билирубина в сыворотке крови на автоматическом анализаторе\n",
      "Определение глюкозы в венозной крови на автоматическом анализаторе\n",
      "Дарсонвализация местная при заболеваниях центральной нервной системы и головного мозга\n",
      "Общая магнитотерапия\n",
      "Воздействие электрическим полем ультравысокой частоты (ЭП УВЧ)\n",
      "Электрофорез лекарственных средств при заболеваниях нижних дыхательных путей\n",
      "Электрофорез лекарственных препаратов при заболеваниях периферической нервной системы\n",
      "Электрофорез лекарственных препаратов при заболеваниях суставов\n",
      "Воздействие ультразвуком при заболеваниях суставов\n",
      "Воздействие ультразвуковое при заболеваниях периферической нервной системы\n",
      "Электросон\n",
      "Воздействие коротким ультрафиолетовым излучением\n",
      "Диадинамотерапия\n",
      "Компьютерная реоэнцефалография\n",
      "Реоэнцефалографическое исследование с гипервентиляцией в течение 1 минуты\n",
      "Электроэнцефалография с нагрузочными пробами\n",
      "Электрокардиографическое исследование в 12 отведениях\n",
      "Расшифровка, описание и интерпретация электрокардиографических данных\n",
      "Общий массаж медицинский\n",
      "Массаж волосистой части головы медицинский\n",
      "Массаж лица медицинский\n",
      "Массаж воротниковой зоны\n",
      "Массаж верхней конечности медицинский\n",
      "Массаж при заболеваниях плечевого сустава\n",
      "Массаж при заболеваниях локтевого сустава\n",
      "Массаж при заболеваниях лучезапястного сустава\n",
      "Массаж грудной клетки медицинский\n",
      "Массаж спины\n",
      "Массаж пояснично-крестцовой области\n",
      "Массаж ног медицинский\n",
      "Массаж при заболеваниях тазобедренного сустава\n",
      "Массаж при заболеваниях коленного сустава\n",
      "Массаж тазобедренного сустава и ягодичной области\n",
      "Массаж при заболеваниях позвоночника\n",
      "Ультразвуковое исследование печени\n",
      "Ультразвуковое исследование желчного пузыря и протоков\n",
      "Ультразвуковое исследование желчного пузыря с определением его сократимости\n",
      "Ультразвуковое исследование поджелудочной железы\n",
      "Ультразвуковое исследование матки и придатков трансабдоминальное\n",
      "Ультразвуковое исследование матки и придатков трансвагинальное\n",
      "Ультразвуковое исследование щитовидной железы и паращитовидных желез\n",
      "Ультразвуковое исследование надпочечников\n",
      "Ультразвуковое исследование почек и надпочечников\n",
      "Ультразвуковое исследование мочевого пузыря\n",
      "Ультразвуковое исследование предстательной железы\n",
      "Ультразвуковое исследование молочных желез\n",
      "Ультразвуковое исследование слюнных желез\n",
      "Ультразвуковое исследование лимфатических узлов (одна анатомическая зона)\n",
      "Ультразвуковое исследование мягких тканей (одна анатомическая зона)\n",
      "Дуплексное сканирование артерий\n",
      "Дуплексное сканирование вен\n",
      "Ультразвуковое исследование органов брюшной полости (комплексное)\n",
      "Комплексное ультразвуковое исследование органов мочеполовой системы\n",
      "Рентгенография плечевой кости в двух проекциях\n",
      "Рентгенография локтевой кости и лучевой кости\n",
      "Рентгенография костей предплечья в двух проекциях\n",
      "Рентгенография костей голени в двух проекциях\n",
      "Рентгенография диафиза большой берцовой и малой берцовой костей\n",
      "Рентгенография грудины\n",
      "Рентгенография таза\n",
      "Рентгенография локтевого сустава\n",
      "Рентгенография лучезапястного сустава\n",
      "Рентгенография кисти в двух проекциях\n",
      "Рентгенография всего черепа, в одной или более прекциях\n",
      "Рентгенография шейного отдела позвоночника\n",
      "Рентгенография коленного сустава\n",
      "Рентгенография тазобедренного сустава\n",
      "Рентгенография легких\n",
      "Рентгенография поясничного и крестцового отдела позвоночника\n",
      "Рентгенография плечевого сустава\n",
      "Рентгенография голеностопного сустава\n",
      "Рентгенография стопы в одной проекции\n",
      "Рентгенография придаточных пазух носа\n",
      "Рентгенография височно-нижнечелюстного сустава\n",
      "Рентгенография нижней челюсти в двух проекциях\n",
      "Рентгенография костей лицевого скелета\n",
      "Рентгенография ключицы\n",
      "Рентгенография ребра(ер)\n",
      "Рентгенография грудного отдела позвоночника в двух проекциях\n",
      "Пребывание в палате повышенной комфортности\n"
     ]
    }
   ],
   "source": [
    "def parse_services():\n",
    "    options = Options()\n",
    "    options.add_argument('--headless')\n",
    "    driver = webdriver.Chrome(options=options)\n",
    "\n",
    "    df = pd.DataFrame(columns=[\"name\"])\n",
    "\n",
    "    url = \"http://spb-3.ru/patients/okazanie-platnykh-uslug/perechen-platnykh-uslug\"\n",
    "    driver.get(url)\n",
    "    time.sleep(1)\n",
    "    table = driver.find_element(By.XPATH, '//*[@id=\"component\"]/div[2]/div[2]/table/tbody')\n",
    "    elements = table.find_elements(By.TAG_NAME, \"tr\")\n",
    "\n",
    "\n",
    "\n",
    "    for el in elements:\n",
    "        try:\n",
    "            name = el.find_elements(By.TAG_NAME, \"td\")[1]\n",
    "            print(name.text)\n",
    "            df.loc[len(df)] = [name.text]\n",
    "        except:\n",
    "            pass\n",
    "\n",
    "    driver.close()\n",
    "    return df\n",
    "\n",
    "df_res = parse_services()\n",
    "df_res.to_csv(\"services.csv\")"
   ],
   "metadata": {
    "collapsed": false,
    "ExecuteTime": {
     "start_time": "2023-05-17T19:27:34.240673Z",
     "end_time": "2023-05-17T19:27:41.385155Z"
    }
   }
  },
  {
   "cell_type": "code",
   "execution_count": 26,
   "outputs": [],
   "source": [
    "lst = [\"ВРАЧ-АЛЛЕРГОЛОГ\",\n",
    "\"ВРАЧ-АНЕСТЕЗИОЛОГ-РЕАНИМАТОЛОГ\",\n",
    "\"ВРАЧ-ЭПИДЕМИОЛОГ, ВРАЧ-ДЕЗИНФЕКЦИОНИСТ\",\n",
    "\"ВРАЧ-КАРДИОЛОГ\",\n",
    "\"ВРАЧ-ОНКОЛОГ\",\n",
    "\"ВРАЧ-ТРАВМАТОЛОГ-ОРТОПЕД\",\n",
    "\"ВРАЧ-ФИЗИОТЕРАПЕВТ\",\n",
    "\"ВРАЧ-СУДЕБНО-МЕДИЦИНСКИЙ ЭКСПЕРТ\",\n",
    "\"САНИТАРНЫЙ ВРАЧ\",\n",
    "\"ВРАЧ-РЕНТГЕНОЛОГ\",\n",
    "\"ВРАЧ-ТОКСИКОЛОГ\",\n",
    "\"ВРАЧ-ПУЛЬМОНОЛОГ\",\n",
    "\"ВРАЧ-УРОЛОГ\",\n",
    "\"ВРАЧ-ТЕРАПЕВТ\",\n",
    "\"ВРАЧ-ПЕДИАТР\",\n",
    "\"ВРАЧ-ИНФЕКЦИОНИСТ\",\n",
    "\"ВРАЧ-ХИРУРГ\",\n",
    "\"ВРАЧ АКУШЕР-ГИНЕКОЛОГ\",\n",
    "\"ВРАЧ-НЕВРОПАТОЛОГ\",\n",
    "\"ВРАЧ-ПСИХИАТР\",\n",
    "\"ВРАЧ-НАРКОЛОГ\",\n",
    "\"ВРАЧ-ОФТАЛЬМОЛОГ\",\n",
    "\"ВРАЧ-ОТОЛАРИНГОЛОГ\",\n",
    "\"ВРАЧ-ДЕРМАТОВЕНЕРОЛОГ\",\n",
    "\"ВРАЧ-СТОМАТОЛОГ\",\n",
    "\"ВРАЧ «СКОРОЙ И НЕОТЛОЖНОЙ МЕДИЦИНСКОЙ ПОМОЩИ»\",\n",
    "\"ФАРМАЦЕВТ\",\n",
    "\"СЕМЕЙНЫЙ ВРАЧ, ИЛИ ВРАЧ ОБЩЕЙ ПРАКТИКИ\",\n",
    "\"АКУШЕРКА, ФЕЛЬДШЕР\",\n",
    "\"МЕДИЦИНСКАЯ СЕСТРА\",\n",
    "\"ЗУБНОЙ ТЕХНИК\"]\n",
    "\n",
    "df_spec = pd.DataFrame(lst, columns=[\"names\"])\n",
    "df_spec.to_csv(\"spec.csv\", index=False)\n",
    "\n"
   ],
   "metadata": {
    "collapsed": false,
    "ExecuteTime": {
     "start_time": "2023-05-17T19:31:57.216901Z",
     "end_time": "2023-05-17T19:31:57.248379Z"
    }
   }
  },
  {
   "cell_type": "code",
   "execution_count": 27,
   "outputs": [
    {
     "data": {
      "text/plain": "                                            names\n0                                 ВРАЧ-АЛЛЕРГОЛОГ\n1                  ВРАЧ-АНЕСТЕЗИОЛОГ-РЕАНИМАТОЛОГ\n2          ВРАЧ-ЭПИДЕМИОЛОГ, ВРАЧ-ДЕЗИНФЕКЦИОНИСТ\n3                                  ВРАЧ-КАРДИОЛОГ\n4                                    ВРАЧ-ОНКОЛОГ\n5                        ВРАЧ-ТРАВМАТОЛОГ-ОРТОПЕД\n6                              ВРАЧ-ФИЗИОТЕРАПЕВТ\n7                ВРАЧ-СУДЕБНО-МЕДИЦИНСКИЙ ЭКСПЕРТ\n8                                 САНИТАРНЫЙ ВРАЧ\n9                                ВРАЧ-РЕНТГЕНОЛОГ\n10                                ВРАЧ-ТОКСИКОЛОГ\n11                               ВРАЧ-ПУЛЬМОНОЛОГ\n12                                    ВРАЧ-УРОЛОГ\n13                                  ВРАЧ-ТЕРАПЕВТ\n14                                   ВРАЧ-ПЕДИАТР\n15                              ВРАЧ-ИНФЕКЦИОНИСТ\n16                                    ВРАЧ-ХИРУРГ\n17                          ВРАЧ АКУШЕР-ГИНЕКОЛОГ\n18                              ВРАЧ-НЕВРОПАТОЛОГ\n19                                  ВРАЧ-ПСИХИАТР\n20                                  ВРАЧ-НАРКОЛОГ\n21                               ВРАЧ-ОФТАЛЬМОЛОГ\n22                             ВРАЧ-ОТОЛАРИНГОЛОГ\n23                          ВРАЧ-ДЕРМАТОВЕНЕРОЛОГ\n24                                ВРАЧ-СТОМАТОЛОГ\n25  ВРАЧ «СКОРОЙ И НЕОТЛОЖНОЙ МЕДИЦИНСКОЙ ПОМОЩИ»\n26                                      ФАРМАЦЕВТ\n27         СЕМЕЙНЫЙ ВРАЧ, ИЛИ ВРАЧ ОБЩЕЙ ПРАКТИКИ\n28                             АКУШЕРКА, ФЕЛЬДШЕР\n29                             МЕДИЦИНСКАЯ СЕСТРА\n30                                  ЗУБНОЙ ТЕХНИК",
      "text/html": "<div>\n<style scoped>\n    .dataframe tbody tr th:only-of-type {\n        vertical-align: middle;\n    }\n\n    .dataframe tbody tr th {\n        vertical-align: top;\n    }\n\n    .dataframe thead th {\n        text-align: right;\n    }\n</style>\n<table border=\"1\" class=\"dataframe\">\n  <thead>\n    <tr style=\"text-align: right;\">\n      <th></th>\n      <th>names</th>\n    </tr>\n  </thead>\n  <tbody>\n    <tr>\n      <th>0</th>\n      <td>ВРАЧ-АЛЛЕРГОЛОГ</td>\n    </tr>\n    <tr>\n      <th>1</th>\n      <td>ВРАЧ-АНЕСТЕЗИОЛОГ-РЕАНИМАТОЛОГ</td>\n    </tr>\n    <tr>\n      <th>2</th>\n      <td>ВРАЧ-ЭПИДЕМИОЛОГ, ВРАЧ-ДЕЗИНФЕКЦИОНИСТ</td>\n    </tr>\n    <tr>\n      <th>3</th>\n      <td>ВРАЧ-КАРДИОЛОГ</td>\n    </tr>\n    <tr>\n      <th>4</th>\n      <td>ВРАЧ-ОНКОЛОГ</td>\n    </tr>\n    <tr>\n      <th>5</th>\n      <td>ВРАЧ-ТРАВМАТОЛОГ-ОРТОПЕД</td>\n    </tr>\n    <tr>\n      <th>6</th>\n      <td>ВРАЧ-ФИЗИОТЕРАПЕВТ</td>\n    </tr>\n    <tr>\n      <th>7</th>\n      <td>ВРАЧ-СУДЕБНО-МЕДИЦИНСКИЙ ЭКСПЕРТ</td>\n    </tr>\n    <tr>\n      <th>8</th>\n      <td>САНИТАРНЫЙ ВРАЧ</td>\n    </tr>\n    <tr>\n      <th>9</th>\n      <td>ВРАЧ-РЕНТГЕНОЛОГ</td>\n    </tr>\n    <tr>\n      <th>10</th>\n      <td>ВРАЧ-ТОКСИКОЛОГ</td>\n    </tr>\n    <tr>\n      <th>11</th>\n      <td>ВРАЧ-ПУЛЬМОНОЛОГ</td>\n    </tr>\n    <tr>\n      <th>12</th>\n      <td>ВРАЧ-УРОЛОГ</td>\n    </tr>\n    <tr>\n      <th>13</th>\n      <td>ВРАЧ-ТЕРАПЕВТ</td>\n    </tr>\n    <tr>\n      <th>14</th>\n      <td>ВРАЧ-ПЕДИАТР</td>\n    </tr>\n    <tr>\n      <th>15</th>\n      <td>ВРАЧ-ИНФЕКЦИОНИСТ</td>\n    </tr>\n    <tr>\n      <th>16</th>\n      <td>ВРАЧ-ХИРУРГ</td>\n    </tr>\n    <tr>\n      <th>17</th>\n      <td>ВРАЧ АКУШЕР-ГИНЕКОЛОГ</td>\n    </tr>\n    <tr>\n      <th>18</th>\n      <td>ВРАЧ-НЕВРОПАТОЛОГ</td>\n    </tr>\n    <tr>\n      <th>19</th>\n      <td>ВРАЧ-ПСИХИАТР</td>\n    </tr>\n    <tr>\n      <th>20</th>\n      <td>ВРАЧ-НАРКОЛОГ</td>\n    </tr>\n    <tr>\n      <th>21</th>\n      <td>ВРАЧ-ОФТАЛЬМОЛОГ</td>\n    </tr>\n    <tr>\n      <th>22</th>\n      <td>ВРАЧ-ОТОЛАРИНГОЛОГ</td>\n    </tr>\n    <tr>\n      <th>23</th>\n      <td>ВРАЧ-ДЕРМАТОВЕНЕРОЛОГ</td>\n    </tr>\n    <tr>\n      <th>24</th>\n      <td>ВРАЧ-СТОМАТОЛОГ</td>\n    </tr>\n    <tr>\n      <th>25</th>\n      <td>ВРАЧ «СКОРОЙ И НЕОТЛОЖНОЙ МЕДИЦИНСКОЙ ПОМОЩИ»</td>\n    </tr>\n    <tr>\n      <th>26</th>\n      <td>ФАРМАЦЕВТ</td>\n    </tr>\n    <tr>\n      <th>27</th>\n      <td>СЕМЕЙНЫЙ ВРАЧ, ИЛИ ВРАЧ ОБЩЕЙ ПРАКТИКИ</td>\n    </tr>\n    <tr>\n      <th>28</th>\n      <td>АКУШЕРКА, ФЕЛЬДШЕР</td>\n    </tr>\n    <tr>\n      <th>29</th>\n      <td>МЕДИЦИНСКАЯ СЕСТРА</td>\n    </tr>\n    <tr>\n      <th>30</th>\n      <td>ЗУБНОЙ ТЕХНИК</td>\n    </tr>\n  </tbody>\n</table>\n</div>"
     },
     "execution_count": 27,
     "metadata": {},
     "output_type": "execute_result"
    }
   ],
   "source": [
    "df = pd.read_csv(\"spec.csv\")\n",
    "df"
   ],
   "metadata": {
    "collapsed": false,
    "ExecuteTime": {
     "start_time": "2023-05-17T19:32:58.828150Z",
     "end_time": "2023-05-17T19:32:58.856063Z"
    }
   }
  },
  {
   "cell_type": "code",
   "execution_count": 34,
   "outputs": [
    {
     "data": {
      "text/plain": "['ВРАЧ-ЭПИДЕМИОЛОГ', ' ВРАЧ-ДЕЗИНФЕКЦИОНИСТ']"
     },
     "execution_count": 34,
     "metadata": {},
     "output_type": "execute_result"
    }
   ],
   "source": [
    "df.loc[2][0].split(\",\")"
   ],
   "metadata": {
    "collapsed": false,
    "ExecuteTime": {
     "start_time": "2023-05-17T19:34:18.971695Z",
     "end_time": "2023-05-17T19:34:18.974683Z"
    }
   }
  },
  {
   "cell_type": "code",
   "execution_count": 17,
   "outputs": [
    {
     "data": {
      "text/plain": "Text(0.5, 1.0, 'Гистограмма количества моделей «Laptop» по объему SSD')"
     },
     "execution_count": 17,
     "metadata": {},
     "output_type": "execute_result"
    },
    {
     "data": {
      "text/plain": "<Figure size 640x480 with 1 Axes>",
      "image/png": "[encoded data removed]"
     },
     "metadata": {},
     "output_type": "display_data"
    }
   ],
   "source": [
    "import matplotlib.pyplot as plt\n",
    "%matplotlib inline\n",
    "\n",
    "count = [661, 642, 657, 125]\n",
    "value = [\"128 GB\", \"256 GB\", \"512 GB\", \"1024 GB\"]\n",
    "\n",
    "fig, ax = plt.subplots()\n",
    "ax.bar(value, count)\n",
    "ax.set_title(\"Гистограмма количества моделей «Laptop» по объему SSD\")"
   ],
   "metadata": {
    "collapsed": false,
    "ExecuteTime": {
     "start_time": "2023-05-17T21:28:22.517100Z",
     "end_time": "2023-05-17T21:28:22.578480Z"
    }
   }
  },
  {
   "cell_type": "code",
   "execution_count": 18,
   "outputs": [
    {
     "data": {
      "text/plain": "Text(0.5, 1.0, 'Диаграмма количества товаров в разных ценовых категориях')"
     },
     "execution_count": 18,
     "metadata": {},
     "output_type": "execute_result"
    },
    {
     "data": {
      "text/plain": "<Figure size 640x480 with 1 Axes>",
      "image/png": "[encoded data removed]"
     },
     "metadata": {},
     "output_type": "display_data"
    }
   ],
   "source": [
    "count = [941, 944, 1838, 9369]\n",
    "value = [\"low\", \"mid\", \"high\", \"extreme\"]\n",
    "\n",
    "fig, ax = plt.subplots()\n",
    "ax.pie(count, labels=value, autopct='%1.2f%%')\n",
    "ax.set_title(\"Диаграмма количества товаров в разных ценовых категориях\")"
   ],
   "metadata": {
    "collapsed": false,
    "ExecuteTime": {
     "start_time": "2023-05-17T21:28:37.236506Z",
     "end_time": "2023-05-17T21:28:37.305685Z"
    }
   }
  },
  {
   "cell_type": "code",
   "execution_count": null,
   "outputs": [],
   "source": [],
   "metadata": {
    "collapsed": false
   }
  }
 ],
 "metadata": {
  "kernelspec": {
   "display_name": "Python 3",
   "language": "python",
   "name": "python3"
  },
  "language_info": {
   "codemirror_mode": {
    "name": "ipython",
    "version": 2
   },
   "file_extension": ".py",
   "mimetype": "text/x-python",
   "name": "python",
   "nbconvert_exporter": "python",
   "pygments_lexer": "ipython2",
   "version": "2.7.6"
  }
 },
 "nbformat": 4,
 "nbformat_minor": 0
}
